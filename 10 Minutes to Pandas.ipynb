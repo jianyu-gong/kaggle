{
 "cells": [
  {
   "cell_type": "code",
   "execution_count": 117,
   "metadata": {
    "collapsed": true
   },
   "outputs": [],
   "source": [
    "import pandas as pd\n",
    "import numpy as np\n",
    "import matplotlib.pyplot as plt"
   ]
  },
  {
   "cell_type": "code",
   "execution_count": 118,
   "metadata": {
    "collapsed": true
   },
   "outputs": [],
   "source": [
    "\"\"\"Creating a Series by passing a list of values, letting pandas create a default integer index\"\"\"\n",
    "s = pd.Series([1, 3, 5, np.nan, 6, 8])"
   ]
  },
  {
   "cell_type": "code",
   "execution_count": 119,
   "metadata": {
    "collapsed": false
   },
   "outputs": [
    {
     "data": {
      "text/plain": [
       "0    1.0\n",
       "1    3.0\n",
       "2    5.0\n",
       "3    NaN\n",
       "4    6.0\n",
       "5    8.0\n",
       "dtype: float64"
      ]
     },
     "execution_count": 119,
     "metadata": {},
     "output_type": "execute_result"
    }
   ],
   "source": [
    "s"
   ]
  },
  {
   "cell_type": "code",
   "execution_count": 120,
   "metadata": {
    "collapsed": false
   },
   "outputs": [
    {
     "data": {
      "text/plain": [
       "DatetimeIndex(['2013-01-01', '2013-01-02', '2013-01-03', '2013-01-04',\n",
       "               '2013-01-05', '2013-01-06'],\n",
       "              dtype='datetime64[ns]', freq='D')"
      ]
     },
     "execution_count": 120,
     "metadata": {},
     "output_type": "execute_result"
    }
   ],
   "source": [
    "\"\"\"Creating a DataFrame\"\"\"\n",
    "dates = pd.date_range('20130101', periods=6)\n",
    "dates"
   ]
  },
  {
   "cell_type": "code",
   "execution_count": 121,
   "metadata": {
    "collapsed": false
   },
   "outputs": [],
   "source": [
    "df = pd.DataFrame(np.random.randn(6,5), index=dates, columns=list('ABCDE'))"
   ]
  },
  {
   "cell_type": "code",
   "execution_count": 122,
   "metadata": {
    "collapsed": false
   },
   "outputs": [
    {
     "data": {
      "text/html": [
       "<div>\n",
       "<table border=\"1\" class=\"dataframe\">\n",
       "  <thead>\n",
       "    <tr style=\"text-align: right;\">\n",
       "      <th></th>\n",
       "      <th>A</th>\n",
       "      <th>B</th>\n",
       "      <th>C</th>\n",
       "      <th>D</th>\n",
       "      <th>E</th>\n",
       "    </tr>\n",
       "  </thead>\n",
       "  <tbody>\n",
       "    <tr>\n",
       "      <th>2013-01-01</th>\n",
       "      <td>0.066390</td>\n",
       "      <td>0.423356</td>\n",
       "      <td>-0.335250</td>\n",
       "      <td>0.126074</td>\n",
       "      <td>1.478497</td>\n",
       "    </tr>\n",
       "    <tr>\n",
       "      <th>2013-01-02</th>\n",
       "      <td>-0.992497</td>\n",
       "      <td>0.710643</td>\n",
       "      <td>0.399813</td>\n",
       "      <td>-1.245138</td>\n",
       "      <td>2.117459</td>\n",
       "    </tr>\n",
       "    <tr>\n",
       "      <th>2013-01-03</th>\n",
       "      <td>0.252339</td>\n",
       "      <td>0.597867</td>\n",
       "      <td>0.574339</td>\n",
       "      <td>-0.453959</td>\n",
       "      <td>0.743652</td>\n",
       "    </tr>\n",
       "    <tr>\n",
       "      <th>2013-01-04</th>\n",
       "      <td>-1.322116</td>\n",
       "      <td>-0.342312</td>\n",
       "      <td>-1.353458</td>\n",
       "      <td>-0.121146</td>\n",
       "      <td>-0.372690</td>\n",
       "    </tr>\n",
       "    <tr>\n",
       "      <th>2013-01-05</th>\n",
       "      <td>-1.072089</td>\n",
       "      <td>-0.589960</td>\n",
       "      <td>-1.326414</td>\n",
       "      <td>-0.249133</td>\n",
       "      <td>1.112193</td>\n",
       "    </tr>\n",
       "    <tr>\n",
       "      <th>2013-01-06</th>\n",
       "      <td>0.376197</td>\n",
       "      <td>-1.780693</td>\n",
       "      <td>1.794927</td>\n",
       "      <td>0.580733</td>\n",
       "      <td>0.528141</td>\n",
       "    </tr>\n",
       "  </tbody>\n",
       "</table>\n",
       "</div>"
      ],
      "text/plain": [
       "                   A         B         C         D         E\n",
       "2013-01-01  0.066390  0.423356 -0.335250  0.126074  1.478497\n",
       "2013-01-02 -0.992497  0.710643  0.399813 -1.245138  2.117459\n",
       "2013-01-03  0.252339  0.597867  0.574339 -0.453959  0.743652\n",
       "2013-01-04 -1.322116 -0.342312 -1.353458 -0.121146 -0.372690\n",
       "2013-01-05 -1.072089 -0.589960 -1.326414 -0.249133  1.112193\n",
       "2013-01-06  0.376197 -1.780693  1.794927  0.580733  0.528141"
      ]
     },
     "execution_count": 122,
     "metadata": {},
     "output_type": "execute_result"
    }
   ],
   "source": [
    "df"
   ]
  },
  {
   "cell_type": "code",
   "execution_count": 123,
   "metadata": {
    "collapsed": false
   },
   "outputs": [
    {
     "data": {
      "text/html": [
       "<div>\n",
       "<table border=\"1\" class=\"dataframe\">\n",
       "  <thead>\n",
       "    <tr style=\"text-align: right;\">\n",
       "      <th></th>\n",
       "      <th>A</th>\n",
       "      <th>B</th>\n",
       "      <th>C</th>\n",
       "      <th>D</th>\n",
       "      <th>E</th>\n",
       "      <th>F</th>\n",
       "    </tr>\n",
       "  </thead>\n",
       "  <tbody>\n",
       "    <tr>\n",
       "      <th>0</th>\n",
       "      <td>1.0</td>\n",
       "      <td>2013-01-02</td>\n",
       "      <td>1.0</td>\n",
       "      <td>3</td>\n",
       "      <td>test</td>\n",
       "      <td>foo</td>\n",
       "    </tr>\n",
       "    <tr>\n",
       "      <th>1</th>\n",
       "      <td>1.0</td>\n",
       "      <td>2013-01-02</td>\n",
       "      <td>1.0</td>\n",
       "      <td>3</td>\n",
       "      <td>train</td>\n",
       "      <td>foo</td>\n",
       "    </tr>\n",
       "    <tr>\n",
       "      <th>2</th>\n",
       "      <td>1.0</td>\n",
       "      <td>2013-01-02</td>\n",
       "      <td>1.0</td>\n",
       "      <td>2</td>\n",
       "      <td>test</td>\n",
       "      <td>foo</td>\n",
       "    </tr>\n",
       "    <tr>\n",
       "      <th>3</th>\n",
       "      <td>1.0</td>\n",
       "      <td>2013-01-02</td>\n",
       "      <td>1.0</td>\n",
       "      <td>2</td>\n",
       "      <td>train</td>\n",
       "      <td>foo</td>\n",
       "    </tr>\n",
       "  </tbody>\n",
       "</table>\n",
       "</div>"
      ],
      "text/plain": [
       "     A          B    C  D      E    F\n",
       "0  1.0 2013-01-02  1.0  3   test  foo\n",
       "1  1.0 2013-01-02  1.0  3  train  foo\n",
       "2  1.0 2013-01-02  1.0  2   test  foo\n",
       "3  1.0 2013-01-02  1.0  2  train  foo"
      ]
     },
     "execution_count": 123,
     "metadata": {},
     "output_type": "execute_result"
    }
   ],
   "source": [
    "\"\"\"Creating a DataFrame by passing a dict of objects that can be converted to series-like\"\"\"\n",
    "df2 = pd.DataFrame({'A': 1.,\n",
    "                    'B': pd.Timestamp('20130102'),\n",
    "                    'C': pd.Series(1, index=list(range(4)),dtype='float32'),\n",
    "                    'D': np.array([3] * 2 + [2] *2, dtype = 'int32'),\n",
    "                    'E': pd.Categorical([\"test\", \"train\", \"test\", \"train\"]),\n",
    "                    'F': 'foo'})\n",
    "df2"
   ]
  },
  {
   "cell_type": "code",
   "execution_count": 124,
   "metadata": {
    "collapsed": false
   },
   "outputs": [
    {
     "data": {
      "text/plain": [
       "A           float64\n",
       "B    datetime64[ns]\n",
       "C           float32\n",
       "D             int32\n",
       "E          category\n",
       "F            object\n",
       "dtype: object"
      ]
     },
     "execution_count": 124,
     "metadata": {},
     "output_type": "execute_result"
    }
   ],
   "source": [
    "df2.dtypes"
   ]
  },
  {
   "cell_type": "code",
   "execution_count": 125,
   "metadata": {
    "collapsed": false
   },
   "outputs": [
    {
     "data": {
      "text/html": [
       "<div>\n",
       "<table border=\"1\" class=\"dataframe\">\n",
       "  <thead>\n",
       "    <tr style=\"text-align: right;\">\n",
       "      <th></th>\n",
       "      <th>A</th>\n",
       "      <th>B</th>\n",
       "      <th>C</th>\n",
       "      <th>D</th>\n",
       "      <th>E</th>\n",
       "    </tr>\n",
       "  </thead>\n",
       "  <tbody>\n",
       "    <tr>\n",
       "      <th>2013-01-01</th>\n",
       "      <td>0.066390</td>\n",
       "      <td>0.423356</td>\n",
       "      <td>-0.335250</td>\n",
       "      <td>0.126074</td>\n",
       "      <td>1.478497</td>\n",
       "    </tr>\n",
       "    <tr>\n",
       "      <th>2013-01-02</th>\n",
       "      <td>-0.992497</td>\n",
       "      <td>0.710643</td>\n",
       "      <td>0.399813</td>\n",
       "      <td>-1.245138</td>\n",
       "      <td>2.117459</td>\n",
       "    </tr>\n",
       "    <tr>\n",
       "      <th>2013-01-03</th>\n",
       "      <td>0.252339</td>\n",
       "      <td>0.597867</td>\n",
       "      <td>0.574339</td>\n",
       "      <td>-0.453959</td>\n",
       "      <td>0.743652</td>\n",
       "    </tr>\n",
       "    <tr>\n",
       "      <th>2013-01-04</th>\n",
       "      <td>-1.322116</td>\n",
       "      <td>-0.342312</td>\n",
       "      <td>-1.353458</td>\n",
       "      <td>-0.121146</td>\n",
       "      <td>-0.372690</td>\n",
       "    </tr>\n",
       "    <tr>\n",
       "      <th>2013-01-05</th>\n",
       "      <td>-1.072089</td>\n",
       "      <td>-0.589960</td>\n",
       "      <td>-1.326414</td>\n",
       "      <td>-0.249133</td>\n",
       "      <td>1.112193</td>\n",
       "    </tr>\n",
       "  </tbody>\n",
       "</table>\n",
       "</div>"
      ],
      "text/plain": [
       "                   A         B         C         D         E\n",
       "2013-01-01  0.066390  0.423356 -0.335250  0.126074  1.478497\n",
       "2013-01-02 -0.992497  0.710643  0.399813 -1.245138  2.117459\n",
       "2013-01-03  0.252339  0.597867  0.574339 -0.453959  0.743652\n",
       "2013-01-04 -1.322116 -0.342312 -1.353458 -0.121146 -0.372690\n",
       "2013-01-05 -1.072089 -0.589960 -1.326414 -0.249133  1.112193"
      ]
     },
     "execution_count": 125,
     "metadata": {},
     "output_type": "execute_result"
    }
   ],
   "source": [
    "\"\"\"Viewing Data\"\"\"\n",
    "df.head()"
   ]
  },
  {
   "cell_type": "code",
   "execution_count": 126,
   "metadata": {
    "collapsed": false
   },
   "outputs": [
    {
     "data": {
      "text/html": [
       "<div>\n",
       "<table border=\"1\" class=\"dataframe\">\n",
       "  <thead>\n",
       "    <tr style=\"text-align: right;\">\n",
       "      <th></th>\n",
       "      <th>A</th>\n",
       "      <th>B</th>\n",
       "      <th>C</th>\n",
       "      <th>D</th>\n",
       "      <th>E</th>\n",
       "    </tr>\n",
       "  </thead>\n",
       "  <tbody>\n",
       "    <tr>\n",
       "      <th>2013-01-04</th>\n",
       "      <td>-1.322116</td>\n",
       "      <td>-0.342312</td>\n",
       "      <td>-1.353458</td>\n",
       "      <td>-0.121146</td>\n",
       "      <td>-0.372690</td>\n",
       "    </tr>\n",
       "    <tr>\n",
       "      <th>2013-01-05</th>\n",
       "      <td>-1.072089</td>\n",
       "      <td>-0.589960</td>\n",
       "      <td>-1.326414</td>\n",
       "      <td>-0.249133</td>\n",
       "      <td>1.112193</td>\n",
       "    </tr>\n",
       "    <tr>\n",
       "      <th>2013-01-06</th>\n",
       "      <td>0.376197</td>\n",
       "      <td>-1.780693</td>\n",
       "      <td>1.794927</td>\n",
       "      <td>0.580733</td>\n",
       "      <td>0.528141</td>\n",
       "    </tr>\n",
       "  </tbody>\n",
       "</table>\n",
       "</div>"
      ],
      "text/plain": [
       "                   A         B         C         D         E\n",
       "2013-01-04 -1.322116 -0.342312 -1.353458 -0.121146 -0.372690\n",
       "2013-01-05 -1.072089 -0.589960 -1.326414 -0.249133  1.112193\n",
       "2013-01-06  0.376197 -1.780693  1.794927  0.580733  0.528141"
      ]
     },
     "execution_count": 126,
     "metadata": {},
     "output_type": "execute_result"
    }
   ],
   "source": [
    "df.tail(3)"
   ]
  },
  {
   "cell_type": "code",
   "execution_count": 127,
   "metadata": {
    "collapsed": false
   },
   "outputs": [
    {
     "data": {
      "text/plain": [
       "DatetimeIndex(['2013-01-01', '2013-01-02', '2013-01-03', '2013-01-04',\n",
       "               '2013-01-05', '2013-01-06'],\n",
       "              dtype='datetime64[ns]', freq='D')"
      ]
     },
     "execution_count": 127,
     "metadata": {},
     "output_type": "execute_result"
    }
   ],
   "source": [
    "df.index"
   ]
  },
  {
   "cell_type": "code",
   "execution_count": 128,
   "metadata": {
    "collapsed": false
   },
   "outputs": [
    {
     "data": {
      "text/plain": [
       "Index([u'A', u'B', u'C', u'D', u'E'], dtype='object')"
      ]
     },
     "execution_count": 128,
     "metadata": {},
     "output_type": "execute_result"
    }
   ],
   "source": [
    "df.columns"
   ]
  },
  {
   "cell_type": "code",
   "execution_count": 129,
   "metadata": {
    "collapsed": false
   },
   "outputs": [
    {
     "data": {
      "text/html": [
       "<div>\n",
       "<table border=\"1\" class=\"dataframe\">\n",
       "  <thead>\n",
       "    <tr style=\"text-align: right;\">\n",
       "      <th></th>\n",
       "      <th>A</th>\n",
       "      <th>B</th>\n",
       "      <th>C</th>\n",
       "      <th>D</th>\n",
       "      <th>E</th>\n",
       "    </tr>\n",
       "  </thead>\n",
       "  <tbody>\n",
       "    <tr>\n",
       "      <th>count</th>\n",
       "      <td>6.000000</td>\n",
       "      <td>6.000000</td>\n",
       "      <td>6.000000</td>\n",
       "      <td>6.000000</td>\n",
       "      <td>6.000000</td>\n",
       "    </tr>\n",
       "    <tr>\n",
       "      <th>mean</th>\n",
       "      <td>-0.448629</td>\n",
       "      <td>-0.163517</td>\n",
       "      <td>-0.041007</td>\n",
       "      <td>-0.227095</td>\n",
       "      <td>0.934542</td>\n",
       "    </tr>\n",
       "    <tr>\n",
       "      <th>std</th>\n",
       "      <td>0.759528</td>\n",
       "      <td>0.950512</td>\n",
       "      <td>1.216964</td>\n",
       "      <td>0.612683</td>\n",
       "      <td>0.852901</td>\n",
       "    </tr>\n",
       "    <tr>\n",
       "      <th>min</th>\n",
       "      <td>-1.322116</td>\n",
       "      <td>-1.780693</td>\n",
       "      <td>-1.353458</td>\n",
       "      <td>-1.245138</td>\n",
       "      <td>-0.372690</td>\n",
       "    </tr>\n",
       "    <tr>\n",
       "      <th>25%</th>\n",
       "      <td>-1.052191</td>\n",
       "      <td>-0.528048</td>\n",
       "      <td>-1.078623</td>\n",
       "      <td>-0.402753</td>\n",
       "      <td>0.582019</td>\n",
       "    </tr>\n",
       "    <tr>\n",
       "      <th>50%</th>\n",
       "      <td>-0.463054</td>\n",
       "      <td>0.040522</td>\n",
       "      <td>0.032282</td>\n",
       "      <td>-0.185140</td>\n",
       "      <td>0.927922</td>\n",
       "    </tr>\n",
       "    <tr>\n",
       "      <th>75%</th>\n",
       "      <td>0.205852</td>\n",
       "      <td>0.554240</td>\n",
       "      <td>0.530708</td>\n",
       "      <td>0.064269</td>\n",
       "      <td>1.386921</td>\n",
       "    </tr>\n",
       "    <tr>\n",
       "      <th>max</th>\n",
       "      <td>0.376197</td>\n",
       "      <td>0.710643</td>\n",
       "      <td>1.794927</td>\n",
       "      <td>0.580733</td>\n",
       "      <td>2.117459</td>\n",
       "    </tr>\n",
       "  </tbody>\n",
       "</table>\n",
       "</div>"
      ],
      "text/plain": [
       "              A         B         C         D         E\n",
       "count  6.000000  6.000000  6.000000  6.000000  6.000000\n",
       "mean  -0.448629 -0.163517 -0.041007 -0.227095  0.934542\n",
       "std    0.759528  0.950512  1.216964  0.612683  0.852901\n",
       "min   -1.322116 -1.780693 -1.353458 -1.245138 -0.372690\n",
       "25%   -1.052191 -0.528048 -1.078623 -0.402753  0.582019\n",
       "50%   -0.463054  0.040522  0.032282 -0.185140  0.927922\n",
       "75%    0.205852  0.554240  0.530708  0.064269  1.386921\n",
       "max    0.376197  0.710643  1.794927  0.580733  2.117459"
      ]
     },
     "execution_count": 129,
     "metadata": {},
     "output_type": "execute_result"
    }
   ],
   "source": [
    "\"\"\"Describe shows a quick statistic summary of your data\"\"\"\n",
    "df.describe()"
   ]
  },
  {
   "cell_type": "code",
   "execution_count": 130,
   "metadata": {
    "collapsed": false
   },
   "outputs": [
    {
     "data": {
      "text/html": [
       "<div>\n",
       "<table border=\"1\" class=\"dataframe\">\n",
       "  <thead>\n",
       "    <tr style=\"text-align: right;\">\n",
       "      <th></th>\n",
       "      <th>2013-01-01 00:00:00</th>\n",
       "      <th>2013-01-02 00:00:00</th>\n",
       "      <th>2013-01-03 00:00:00</th>\n",
       "      <th>2013-01-04 00:00:00</th>\n",
       "      <th>2013-01-05 00:00:00</th>\n",
       "      <th>2013-01-06 00:00:00</th>\n",
       "    </tr>\n",
       "  </thead>\n",
       "  <tbody>\n",
       "    <tr>\n",
       "      <th>A</th>\n",
       "      <td>0.066390</td>\n",
       "      <td>-0.992497</td>\n",
       "      <td>0.252339</td>\n",
       "      <td>-1.322116</td>\n",
       "      <td>-1.072089</td>\n",
       "      <td>0.376197</td>\n",
       "    </tr>\n",
       "    <tr>\n",
       "      <th>B</th>\n",
       "      <td>0.423356</td>\n",
       "      <td>0.710643</td>\n",
       "      <td>0.597867</td>\n",
       "      <td>-0.342312</td>\n",
       "      <td>-0.589960</td>\n",
       "      <td>-1.780693</td>\n",
       "    </tr>\n",
       "    <tr>\n",
       "      <th>C</th>\n",
       "      <td>-0.335250</td>\n",
       "      <td>0.399813</td>\n",
       "      <td>0.574339</td>\n",
       "      <td>-1.353458</td>\n",
       "      <td>-1.326414</td>\n",
       "      <td>1.794927</td>\n",
       "    </tr>\n",
       "    <tr>\n",
       "      <th>D</th>\n",
       "      <td>0.126074</td>\n",
       "      <td>-1.245138</td>\n",
       "      <td>-0.453959</td>\n",
       "      <td>-0.121146</td>\n",
       "      <td>-0.249133</td>\n",
       "      <td>0.580733</td>\n",
       "    </tr>\n",
       "    <tr>\n",
       "      <th>E</th>\n",
       "      <td>1.478497</td>\n",
       "      <td>2.117459</td>\n",
       "      <td>0.743652</td>\n",
       "      <td>-0.372690</td>\n",
       "      <td>1.112193</td>\n",
       "      <td>0.528141</td>\n",
       "    </tr>\n",
       "  </tbody>\n",
       "</table>\n",
       "</div>"
      ],
      "text/plain": [
       "   2013-01-01  2013-01-02  2013-01-03  2013-01-04  2013-01-05  2013-01-06\n",
       "A    0.066390   -0.992497    0.252339   -1.322116   -1.072089    0.376197\n",
       "B    0.423356    0.710643    0.597867   -0.342312   -0.589960   -1.780693\n",
       "C   -0.335250    0.399813    0.574339   -1.353458   -1.326414    1.794927\n",
       "D    0.126074   -1.245138   -0.453959   -0.121146   -0.249133    0.580733\n",
       "E    1.478497    2.117459    0.743652   -0.372690    1.112193    0.528141"
      ]
     },
     "execution_count": 130,
     "metadata": {},
     "output_type": "execute_result"
    }
   ],
   "source": [
    "\"\"\"Transposing your data\"\"\"\n",
    "df.T"
   ]
  },
  {
   "cell_type": "code",
   "execution_count": 131,
   "metadata": {
    "collapsed": false
   },
   "outputs": [
    {
     "data": {
      "text/html": [
       "<div>\n",
       "<table border=\"1\" class=\"dataframe\">\n",
       "  <thead>\n",
       "    <tr style=\"text-align: right;\">\n",
       "      <th></th>\n",
       "      <th>E</th>\n",
       "      <th>D</th>\n",
       "      <th>C</th>\n",
       "      <th>B</th>\n",
       "      <th>A</th>\n",
       "    </tr>\n",
       "  </thead>\n",
       "  <tbody>\n",
       "    <tr>\n",
       "      <th>2013-01-01</th>\n",
       "      <td>1.478497</td>\n",
       "      <td>0.126074</td>\n",
       "      <td>-0.335250</td>\n",
       "      <td>0.423356</td>\n",
       "      <td>0.066390</td>\n",
       "    </tr>\n",
       "    <tr>\n",
       "      <th>2013-01-02</th>\n",
       "      <td>2.117459</td>\n",
       "      <td>-1.245138</td>\n",
       "      <td>0.399813</td>\n",
       "      <td>0.710643</td>\n",
       "      <td>-0.992497</td>\n",
       "    </tr>\n",
       "    <tr>\n",
       "      <th>2013-01-03</th>\n",
       "      <td>0.743652</td>\n",
       "      <td>-0.453959</td>\n",
       "      <td>0.574339</td>\n",
       "      <td>0.597867</td>\n",
       "      <td>0.252339</td>\n",
       "    </tr>\n",
       "    <tr>\n",
       "      <th>2013-01-04</th>\n",
       "      <td>-0.372690</td>\n",
       "      <td>-0.121146</td>\n",
       "      <td>-1.353458</td>\n",
       "      <td>-0.342312</td>\n",
       "      <td>-1.322116</td>\n",
       "    </tr>\n",
       "    <tr>\n",
       "      <th>2013-01-05</th>\n",
       "      <td>1.112193</td>\n",
       "      <td>-0.249133</td>\n",
       "      <td>-1.326414</td>\n",
       "      <td>-0.589960</td>\n",
       "      <td>-1.072089</td>\n",
       "    </tr>\n",
       "    <tr>\n",
       "      <th>2013-01-06</th>\n",
       "      <td>0.528141</td>\n",
       "      <td>0.580733</td>\n",
       "      <td>1.794927</td>\n",
       "      <td>-1.780693</td>\n",
       "      <td>0.376197</td>\n",
       "    </tr>\n",
       "  </tbody>\n",
       "</table>\n",
       "</div>"
      ],
      "text/plain": [
       "                   E         D         C         B         A\n",
       "2013-01-01  1.478497  0.126074 -0.335250  0.423356  0.066390\n",
       "2013-01-02  2.117459 -1.245138  0.399813  0.710643 -0.992497\n",
       "2013-01-03  0.743652 -0.453959  0.574339  0.597867  0.252339\n",
       "2013-01-04 -0.372690 -0.121146 -1.353458 -0.342312 -1.322116\n",
       "2013-01-05  1.112193 -0.249133 -1.326414 -0.589960 -1.072089\n",
       "2013-01-06  0.528141  0.580733  1.794927 -1.780693  0.376197"
      ]
     },
     "execution_count": 131,
     "metadata": {},
     "output_type": "execute_result"
    }
   ],
   "source": [
    "\"\"\"Sorting by an axis: 0-Row, 1-Column\"\"\"\n",
    "df.sort_index(axis=1, ascending=False)"
   ]
  },
  {
   "cell_type": "code",
   "execution_count": 132,
   "metadata": {
    "collapsed": false
   },
   "outputs": [
    {
     "name": "stderr",
     "output_type": "stream",
     "text": [
      "/Users/Jianyu/anaconda2/lib/python2.7/site-packages/ipykernel/__main__.py:2: FutureWarning: sort(columns=....) is deprecated, use sort_values(by=.....)\n",
      "  from ipykernel import kernelapp as app\n"
     ]
    },
    {
     "data": {
      "text/html": [
       "<div>\n",
       "<table border=\"1\" class=\"dataframe\">\n",
       "  <thead>\n",
       "    <tr style=\"text-align: right;\">\n",
       "      <th></th>\n",
       "      <th>A</th>\n",
       "      <th>B</th>\n",
       "      <th>C</th>\n",
       "      <th>D</th>\n",
       "      <th>E</th>\n",
       "    </tr>\n",
       "  </thead>\n",
       "  <tbody>\n",
       "    <tr>\n",
       "      <th>2013-01-02</th>\n",
       "      <td>-0.992497</td>\n",
       "      <td>0.710643</td>\n",
       "      <td>0.399813</td>\n",
       "      <td>-1.245138</td>\n",
       "      <td>2.117459</td>\n",
       "    </tr>\n",
       "    <tr>\n",
       "      <th>2013-01-03</th>\n",
       "      <td>0.252339</td>\n",
       "      <td>0.597867</td>\n",
       "      <td>0.574339</td>\n",
       "      <td>-0.453959</td>\n",
       "      <td>0.743652</td>\n",
       "    </tr>\n",
       "    <tr>\n",
       "      <th>2013-01-01</th>\n",
       "      <td>0.066390</td>\n",
       "      <td>0.423356</td>\n",
       "      <td>-0.335250</td>\n",
       "      <td>0.126074</td>\n",
       "      <td>1.478497</td>\n",
       "    </tr>\n",
       "    <tr>\n",
       "      <th>2013-01-04</th>\n",
       "      <td>-1.322116</td>\n",
       "      <td>-0.342312</td>\n",
       "      <td>-1.353458</td>\n",
       "      <td>-0.121146</td>\n",
       "      <td>-0.372690</td>\n",
       "    </tr>\n",
       "    <tr>\n",
       "      <th>2013-01-05</th>\n",
       "      <td>-1.072089</td>\n",
       "      <td>-0.589960</td>\n",
       "      <td>-1.326414</td>\n",
       "      <td>-0.249133</td>\n",
       "      <td>1.112193</td>\n",
       "    </tr>\n",
       "    <tr>\n",
       "      <th>2013-01-06</th>\n",
       "      <td>0.376197</td>\n",
       "      <td>-1.780693</td>\n",
       "      <td>1.794927</td>\n",
       "      <td>0.580733</td>\n",
       "      <td>0.528141</td>\n",
       "    </tr>\n",
       "  </tbody>\n",
       "</table>\n",
       "</div>"
      ],
      "text/plain": [
       "                   A         B         C         D         E\n",
       "2013-01-02 -0.992497  0.710643  0.399813 -1.245138  2.117459\n",
       "2013-01-03  0.252339  0.597867  0.574339 -0.453959  0.743652\n",
       "2013-01-01  0.066390  0.423356 -0.335250  0.126074  1.478497\n",
       "2013-01-04 -1.322116 -0.342312 -1.353458 -0.121146 -0.372690\n",
       "2013-01-05 -1.072089 -0.589960 -1.326414 -0.249133  1.112193\n",
       "2013-01-06  0.376197 -1.780693  1.794927  0.580733  0.528141"
      ]
     },
     "execution_count": 132,
     "metadata": {},
     "output_type": "execute_result"
    }
   ],
   "source": [
    "\"\"\"Sorting by values\"\"\"\n",
    "df.sort(columns='B', ascending=False)"
   ]
  },
  {
   "cell_type": "code",
   "execution_count": 133,
   "metadata": {
    "collapsed": false
   },
   "outputs": [
    {
     "data": {
      "text/plain": [
       "2013-01-01    0.066390\n",
       "2013-01-02   -0.992497\n",
       "2013-01-03    0.252339\n",
       "2013-01-04   -1.322116\n",
       "2013-01-05   -1.072089\n",
       "2013-01-06    0.376197\n",
       "Freq: D, Name: A, dtype: float64"
      ]
     },
     "execution_count": 133,
     "metadata": {},
     "output_type": "execute_result"
    }
   ],
   "source": [
    "\"\"\"Selecting a single column, which yiels a Series\"\"\"\n",
    "df['A']"
   ]
  },
  {
   "cell_type": "code",
   "execution_count": 134,
   "metadata": {
    "collapsed": false
   },
   "outputs": [
    {
     "data": {
      "text/html": [
       "<div>\n",
       "<table border=\"1\" class=\"dataframe\">\n",
       "  <thead>\n",
       "    <tr style=\"text-align: right;\">\n",
       "      <th></th>\n",
       "      <th>A</th>\n",
       "      <th>B</th>\n",
       "      <th>C</th>\n",
       "      <th>D</th>\n",
       "      <th>E</th>\n",
       "    </tr>\n",
       "  </thead>\n",
       "  <tbody>\n",
       "    <tr>\n",
       "      <th>2013-01-01</th>\n",
       "      <td>0.066390</td>\n",
       "      <td>0.423356</td>\n",
       "      <td>-0.335250</td>\n",
       "      <td>0.126074</td>\n",
       "      <td>1.478497</td>\n",
       "    </tr>\n",
       "    <tr>\n",
       "      <th>2013-01-02</th>\n",
       "      <td>-0.992497</td>\n",
       "      <td>0.710643</td>\n",
       "      <td>0.399813</td>\n",
       "      <td>-1.245138</td>\n",
       "      <td>2.117459</td>\n",
       "    </tr>\n",
       "    <tr>\n",
       "      <th>2013-01-03</th>\n",
       "      <td>0.252339</td>\n",
       "      <td>0.597867</td>\n",
       "      <td>0.574339</td>\n",
       "      <td>-0.453959</td>\n",
       "      <td>0.743652</td>\n",
       "    </tr>\n",
       "  </tbody>\n",
       "</table>\n",
       "</div>"
      ],
      "text/plain": [
       "                   A         B         C         D         E\n",
       "2013-01-01  0.066390  0.423356 -0.335250  0.126074  1.478497\n",
       "2013-01-02 -0.992497  0.710643  0.399813 -1.245138  2.117459\n",
       "2013-01-03  0.252339  0.597867  0.574339 -0.453959  0.743652"
      ]
     },
     "execution_count": 134,
     "metadata": {},
     "output_type": "execute_result"
    }
   ],
   "source": [
    "\"\"\"Selecting via[], which slices the rows\"\"\"\n",
    "df[0:3]"
   ]
  },
  {
   "cell_type": "code",
   "execution_count": 135,
   "metadata": {
    "collapsed": false
   },
   "outputs": [
    {
     "data": {
      "text/html": [
       "<div>\n",
       "<table border=\"1\" class=\"dataframe\">\n",
       "  <thead>\n",
       "    <tr style=\"text-align: right;\">\n",
       "      <th></th>\n",
       "      <th>A</th>\n",
       "      <th>B</th>\n",
       "      <th>C</th>\n",
       "      <th>D</th>\n",
       "      <th>E</th>\n",
       "    </tr>\n",
       "  </thead>\n",
       "  <tbody>\n",
       "    <tr>\n",
       "      <th>2013-01-02</th>\n",
       "      <td>-0.992497</td>\n",
       "      <td>0.710643</td>\n",
       "      <td>0.399813</td>\n",
       "      <td>-1.245138</td>\n",
       "      <td>2.117459</td>\n",
       "    </tr>\n",
       "    <tr>\n",
       "      <th>2013-01-03</th>\n",
       "      <td>0.252339</td>\n",
       "      <td>0.597867</td>\n",
       "      <td>0.574339</td>\n",
       "      <td>-0.453959</td>\n",
       "      <td>0.743652</td>\n",
       "    </tr>\n",
       "    <tr>\n",
       "      <th>2013-01-04</th>\n",
       "      <td>-1.322116</td>\n",
       "      <td>-0.342312</td>\n",
       "      <td>-1.353458</td>\n",
       "      <td>-0.121146</td>\n",
       "      <td>-0.372690</td>\n",
       "    </tr>\n",
       "  </tbody>\n",
       "</table>\n",
       "</div>"
      ],
      "text/plain": [
       "                   A         B         C         D         E\n",
       "2013-01-02 -0.992497  0.710643  0.399813 -1.245138  2.117459\n",
       "2013-01-03  0.252339  0.597867  0.574339 -0.453959  0.743652\n",
       "2013-01-04 -1.322116 -0.342312 -1.353458 -0.121146 -0.372690"
      ]
     },
     "execution_count": 135,
     "metadata": {},
     "output_type": "execute_result"
    }
   ],
   "source": [
    "df['20130102':'20130104']"
   ]
  },
  {
   "cell_type": "code",
   "execution_count": 136,
   "metadata": {
    "collapsed": false
   },
   "outputs": [
    {
     "data": {
      "text/html": [
       "<div>\n",
       "<table border=\"1\" class=\"dataframe\">\n",
       "  <thead>\n",
       "    <tr style=\"text-align: right;\">\n",
       "      <th></th>\n",
       "      <th>A</th>\n",
       "      <th>B</th>\n",
       "    </tr>\n",
       "  </thead>\n",
       "  <tbody>\n",
       "    <tr>\n",
       "      <th>2013-01-01</th>\n",
       "      <td>0.066390</td>\n",
       "      <td>0.423356</td>\n",
       "    </tr>\n",
       "    <tr>\n",
       "      <th>2013-01-02</th>\n",
       "      <td>-0.992497</td>\n",
       "      <td>0.710643</td>\n",
       "    </tr>\n",
       "    <tr>\n",
       "      <th>2013-01-03</th>\n",
       "      <td>0.252339</td>\n",
       "      <td>0.597867</td>\n",
       "    </tr>\n",
       "    <tr>\n",
       "      <th>2013-01-04</th>\n",
       "      <td>-1.322116</td>\n",
       "      <td>-0.342312</td>\n",
       "    </tr>\n",
       "    <tr>\n",
       "      <th>2013-01-05</th>\n",
       "      <td>-1.072089</td>\n",
       "      <td>-0.589960</td>\n",
       "    </tr>\n",
       "    <tr>\n",
       "      <th>2013-01-06</th>\n",
       "      <td>0.376197</td>\n",
       "      <td>-1.780693</td>\n",
       "    </tr>\n",
       "  </tbody>\n",
       "</table>\n",
       "</div>"
      ],
      "text/plain": [
       "                   A         B\n",
       "2013-01-01  0.066390  0.423356\n",
       "2013-01-02 -0.992497  0.710643\n",
       "2013-01-03  0.252339  0.597867\n",
       "2013-01-04 -1.322116 -0.342312\n",
       "2013-01-05 -1.072089 -0.589960\n",
       "2013-01-06  0.376197 -1.780693"
      ]
     },
     "execution_count": 136,
     "metadata": {},
     "output_type": "execute_result"
    }
   ],
   "source": [
    "\"\"\"Selection by multi-axis by label\"\"\"\n",
    "df.loc[:,['A','B']]"
   ]
  },
  {
   "cell_type": "code",
   "execution_count": 137,
   "metadata": {
    "collapsed": false
   },
   "outputs": [
    {
     "data": {
      "text/plain": [
       "0.066389850628691904"
      ]
     },
     "execution_count": 137,
     "metadata": {},
     "output_type": "execute_result"
    }
   ],
   "source": [
    "\"\"\"For getting a scalar value\"\"\"\n",
    "df.loc[dates[0], 'A']"
   ]
  },
  {
   "cell_type": "code",
   "execution_count": 138,
   "metadata": {
    "collapsed": false
   },
   "outputs": [
    {
     "data": {
      "text/plain": [
       "A   -1.322116\n",
       "B   -0.342312\n",
       "C   -1.353458\n",
       "D   -0.121146\n",
       "E   -0.372690\n",
       "Name: 2013-01-04 00:00:00, dtype: float64"
      ]
     },
     "execution_count": 138,
     "metadata": {},
     "output_type": "execute_result"
    }
   ],
   "source": [
    "\"\"\"Selection by Position\"\"\"\n",
    "df.iloc[3]"
   ]
  },
  {
   "cell_type": "code",
   "execution_count": 139,
   "metadata": {
    "collapsed": false
   },
   "outputs": [
    {
     "data": {
      "text/html": [
       "<div>\n",
       "<table border=\"1\" class=\"dataframe\">\n",
       "  <thead>\n",
       "    <tr style=\"text-align: right;\">\n",
       "      <th></th>\n",
       "      <th>A</th>\n",
       "      <th>B</th>\n",
       "    </tr>\n",
       "  </thead>\n",
       "  <tbody>\n",
       "    <tr>\n",
       "      <th>2013-01-04</th>\n",
       "      <td>-1.322116</td>\n",
       "      <td>-0.342312</td>\n",
       "    </tr>\n",
       "    <tr>\n",
       "      <th>2013-01-05</th>\n",
       "      <td>-1.072089</td>\n",
       "      <td>-0.589960</td>\n",
       "    </tr>\n",
       "  </tbody>\n",
       "</table>\n",
       "</div>"
      ],
      "text/plain": [
       "                   A         B\n",
       "2013-01-04 -1.322116 -0.342312\n",
       "2013-01-05 -1.072089 -0.589960"
      ]
     },
     "execution_count": 139,
     "metadata": {},
     "output_type": "execute_result"
    }
   ],
   "source": [
    "\"\"\"By integers slices: Front-row, Back-column\"\"\"\n",
    "df.iloc[3:5, 0:2]"
   ]
  },
  {
   "cell_type": "code",
   "execution_count": 140,
   "metadata": {
    "collapsed": false
   },
   "outputs": [
    {
     "data": {
      "text/html": [
       "<div>\n",
       "<table border=\"1\" class=\"dataframe\">\n",
       "  <thead>\n",
       "    <tr style=\"text-align: right;\">\n",
       "      <th></th>\n",
       "      <th>A</th>\n",
       "      <th>C</th>\n",
       "    </tr>\n",
       "  </thead>\n",
       "  <tbody>\n",
       "    <tr>\n",
       "      <th>2013-01-02</th>\n",
       "      <td>-0.992497</td>\n",
       "      <td>0.399813</td>\n",
       "    </tr>\n",
       "    <tr>\n",
       "      <th>2013-01-03</th>\n",
       "      <td>0.252339</td>\n",
       "      <td>0.574339</td>\n",
       "    </tr>\n",
       "    <tr>\n",
       "      <th>2013-01-05</th>\n",
       "      <td>-1.072089</td>\n",
       "      <td>-1.326414</td>\n",
       "    </tr>\n",
       "  </tbody>\n",
       "</table>\n",
       "</div>"
      ],
      "text/plain": [
       "                   A         C\n",
       "2013-01-02 -0.992497  0.399813\n",
       "2013-01-03  0.252339  0.574339\n",
       "2013-01-05 -1.072089 -1.326414"
      ]
     },
     "execution_count": 140,
     "metadata": {},
     "output_type": "execute_result"
    }
   ],
   "source": [
    "df.iloc[[1,2,4],[0,2]]"
   ]
  },
  {
   "cell_type": "code",
   "execution_count": 141,
   "metadata": {
    "collapsed": false
   },
   "outputs": [
    {
     "data": {
      "text/html": [
       "<div>\n",
       "<table border=\"1\" class=\"dataframe\">\n",
       "  <thead>\n",
       "    <tr style=\"text-align: right;\">\n",
       "      <th></th>\n",
       "      <th>A</th>\n",
       "      <th>B</th>\n",
       "      <th>C</th>\n",
       "      <th>D</th>\n",
       "      <th>E</th>\n",
       "    </tr>\n",
       "  </thead>\n",
       "  <tbody>\n",
       "    <tr>\n",
       "      <th>2013-01-01</th>\n",
       "      <td>0.066390</td>\n",
       "      <td>0.423356</td>\n",
       "      <td>-0.335250</td>\n",
       "      <td>0.126074</td>\n",
       "      <td>1.478497</td>\n",
       "    </tr>\n",
       "    <tr>\n",
       "      <th>2013-01-03</th>\n",
       "      <td>0.252339</td>\n",
       "      <td>0.597867</td>\n",
       "      <td>0.574339</td>\n",
       "      <td>-0.453959</td>\n",
       "      <td>0.743652</td>\n",
       "    </tr>\n",
       "    <tr>\n",
       "      <th>2013-01-06</th>\n",
       "      <td>0.376197</td>\n",
       "      <td>-1.780693</td>\n",
       "      <td>1.794927</td>\n",
       "      <td>0.580733</td>\n",
       "      <td>0.528141</td>\n",
       "    </tr>\n",
       "  </tbody>\n",
       "</table>\n",
       "</div>"
      ],
      "text/plain": [
       "                   A         B         C         D         E\n",
       "2013-01-01  0.066390  0.423356 -0.335250  0.126074  1.478497\n",
       "2013-01-03  0.252339  0.597867  0.574339 -0.453959  0.743652\n",
       "2013-01-06  0.376197 -1.780693  1.794927  0.580733  0.528141"
      ]
     },
     "execution_count": 141,
     "metadata": {},
     "output_type": "execute_result"
    }
   ],
   "source": [
    "\"\"\"Boolean Indexing\n",
    "Using a single column's values to select data\"\"\"\n",
    "df[df.A > 0]"
   ]
  },
  {
   "cell_type": "code",
   "execution_count": 142,
   "metadata": {
    "collapsed": false
   },
   "outputs": [
    {
     "data": {
      "text/html": [
       "<div>\n",
       "<table border=\"1\" class=\"dataframe\">\n",
       "  <thead>\n",
       "    <tr style=\"text-align: right;\">\n",
       "      <th></th>\n",
       "      <th>A</th>\n",
       "      <th>B</th>\n",
       "      <th>C</th>\n",
       "      <th>D</th>\n",
       "      <th>E</th>\n",
       "    </tr>\n",
       "  </thead>\n",
       "  <tbody>\n",
       "    <tr>\n",
       "      <th>2013-01-01</th>\n",
       "      <td>0.066390</td>\n",
       "      <td>0.423356</td>\n",
       "      <td>NaN</td>\n",
       "      <td>0.126074</td>\n",
       "      <td>1.478497</td>\n",
       "    </tr>\n",
       "    <tr>\n",
       "      <th>2013-01-02</th>\n",
       "      <td>NaN</td>\n",
       "      <td>0.710643</td>\n",
       "      <td>0.399813</td>\n",
       "      <td>NaN</td>\n",
       "      <td>2.117459</td>\n",
       "    </tr>\n",
       "    <tr>\n",
       "      <th>2013-01-03</th>\n",
       "      <td>0.252339</td>\n",
       "      <td>0.597867</td>\n",
       "      <td>0.574339</td>\n",
       "      <td>NaN</td>\n",
       "      <td>0.743652</td>\n",
       "    </tr>\n",
       "    <tr>\n",
       "      <th>2013-01-04</th>\n",
       "      <td>NaN</td>\n",
       "      <td>NaN</td>\n",
       "      <td>NaN</td>\n",
       "      <td>NaN</td>\n",
       "      <td>NaN</td>\n",
       "    </tr>\n",
       "    <tr>\n",
       "      <th>2013-01-05</th>\n",
       "      <td>NaN</td>\n",
       "      <td>NaN</td>\n",
       "      <td>NaN</td>\n",
       "      <td>NaN</td>\n",
       "      <td>1.112193</td>\n",
       "    </tr>\n",
       "    <tr>\n",
       "      <th>2013-01-06</th>\n",
       "      <td>0.376197</td>\n",
       "      <td>NaN</td>\n",
       "      <td>1.794927</td>\n",
       "      <td>0.580733</td>\n",
       "      <td>0.528141</td>\n",
       "    </tr>\n",
       "  </tbody>\n",
       "</table>\n",
       "</div>"
      ],
      "text/plain": [
       "                   A         B         C         D         E\n",
       "2013-01-01  0.066390  0.423356       NaN  0.126074  1.478497\n",
       "2013-01-02       NaN  0.710643  0.399813       NaN  2.117459\n",
       "2013-01-03  0.252339  0.597867  0.574339       NaN  0.743652\n",
       "2013-01-04       NaN       NaN       NaN       NaN       NaN\n",
       "2013-01-05       NaN       NaN       NaN       NaN  1.112193\n",
       "2013-01-06  0.376197       NaN  1.794927  0.580733  0.528141"
      ]
     },
     "execution_count": 142,
     "metadata": {},
     "output_type": "execute_result"
    }
   ],
   "source": [
    "df[df > 0]"
   ]
  },
  {
   "cell_type": "code",
   "execution_count": 143,
   "metadata": {
    "collapsed": true
   },
   "outputs": [],
   "source": [
    "\"\"\"Using isin() method for filtering\"\"\"\n",
    "df3 = df.copy()"
   ]
  },
  {
   "cell_type": "code",
   "execution_count": 144,
   "metadata": {
    "collapsed": false
   },
   "outputs": [],
   "source": [
    "df3['F']=['one', 'one', 'two', 'three', 'four', 'three']"
   ]
  },
  {
   "cell_type": "code",
   "execution_count": 145,
   "metadata": {
    "collapsed": false
   },
   "outputs": [
    {
     "data": {
      "text/html": [
       "<div>\n",
       "<table border=\"1\" class=\"dataframe\">\n",
       "  <thead>\n",
       "    <tr style=\"text-align: right;\">\n",
       "      <th></th>\n",
       "      <th>A</th>\n",
       "      <th>B</th>\n",
       "      <th>C</th>\n",
       "      <th>D</th>\n",
       "      <th>E</th>\n",
       "      <th>F</th>\n",
       "    </tr>\n",
       "  </thead>\n",
       "  <tbody>\n",
       "    <tr>\n",
       "      <th>2013-01-01</th>\n",
       "      <td>0.066390</td>\n",
       "      <td>0.423356</td>\n",
       "      <td>-0.335250</td>\n",
       "      <td>0.126074</td>\n",
       "      <td>1.478497</td>\n",
       "      <td>one</td>\n",
       "    </tr>\n",
       "    <tr>\n",
       "      <th>2013-01-02</th>\n",
       "      <td>-0.992497</td>\n",
       "      <td>0.710643</td>\n",
       "      <td>0.399813</td>\n",
       "      <td>-1.245138</td>\n",
       "      <td>2.117459</td>\n",
       "      <td>one</td>\n",
       "    </tr>\n",
       "    <tr>\n",
       "      <th>2013-01-03</th>\n",
       "      <td>0.252339</td>\n",
       "      <td>0.597867</td>\n",
       "      <td>0.574339</td>\n",
       "      <td>-0.453959</td>\n",
       "      <td>0.743652</td>\n",
       "      <td>two</td>\n",
       "    </tr>\n",
       "    <tr>\n",
       "      <th>2013-01-04</th>\n",
       "      <td>-1.322116</td>\n",
       "      <td>-0.342312</td>\n",
       "      <td>-1.353458</td>\n",
       "      <td>-0.121146</td>\n",
       "      <td>-0.372690</td>\n",
       "      <td>three</td>\n",
       "    </tr>\n",
       "    <tr>\n",
       "      <th>2013-01-05</th>\n",
       "      <td>-1.072089</td>\n",
       "      <td>-0.589960</td>\n",
       "      <td>-1.326414</td>\n",
       "      <td>-0.249133</td>\n",
       "      <td>1.112193</td>\n",
       "      <td>four</td>\n",
       "    </tr>\n",
       "    <tr>\n",
       "      <th>2013-01-06</th>\n",
       "      <td>0.376197</td>\n",
       "      <td>-1.780693</td>\n",
       "      <td>1.794927</td>\n",
       "      <td>0.580733</td>\n",
       "      <td>0.528141</td>\n",
       "      <td>three</td>\n",
       "    </tr>\n",
       "  </tbody>\n",
       "</table>\n",
       "</div>"
      ],
      "text/plain": [
       "                   A         B         C         D         E      F\n",
       "2013-01-01  0.066390  0.423356 -0.335250  0.126074  1.478497    one\n",
       "2013-01-02 -0.992497  0.710643  0.399813 -1.245138  2.117459    one\n",
       "2013-01-03  0.252339  0.597867  0.574339 -0.453959  0.743652    two\n",
       "2013-01-04 -1.322116 -0.342312 -1.353458 -0.121146 -0.372690  three\n",
       "2013-01-05 -1.072089 -0.589960 -1.326414 -0.249133  1.112193   four\n",
       "2013-01-06  0.376197 -1.780693  1.794927  0.580733  0.528141  three"
      ]
     },
     "execution_count": 145,
     "metadata": {},
     "output_type": "execute_result"
    }
   ],
   "source": [
    "df3"
   ]
  },
  {
   "cell_type": "code",
   "execution_count": 146,
   "metadata": {
    "collapsed": false
   },
   "outputs": [
    {
     "data": {
      "text/html": [
       "<div>\n",
       "<table border=\"1\" class=\"dataframe\">\n",
       "  <thead>\n",
       "    <tr style=\"text-align: right;\">\n",
       "      <th></th>\n",
       "      <th>A</th>\n",
       "      <th>B</th>\n",
       "      <th>C</th>\n",
       "      <th>D</th>\n",
       "      <th>E</th>\n",
       "      <th>F</th>\n",
       "    </tr>\n",
       "  </thead>\n",
       "  <tbody>\n",
       "    <tr>\n",
       "      <th>2013-01-03</th>\n",
       "      <td>0.252339</td>\n",
       "      <td>0.597867</td>\n",
       "      <td>0.574339</td>\n",
       "      <td>-0.453959</td>\n",
       "      <td>0.743652</td>\n",
       "      <td>two</td>\n",
       "    </tr>\n",
       "    <tr>\n",
       "      <th>2013-01-05</th>\n",
       "      <td>-1.072089</td>\n",
       "      <td>-0.589960</td>\n",
       "      <td>-1.326414</td>\n",
       "      <td>-0.249133</td>\n",
       "      <td>1.112193</td>\n",
       "      <td>four</td>\n",
       "    </tr>\n",
       "  </tbody>\n",
       "</table>\n",
       "</div>"
      ],
      "text/plain": [
       "                   A         B         C         D         E     F\n",
       "2013-01-03  0.252339  0.597867  0.574339 -0.453959  0.743652   two\n",
       "2013-01-05 -1.072089 -0.589960 -1.326414 -0.249133  1.112193  four"
      ]
     },
     "execution_count": 146,
     "metadata": {},
     "output_type": "execute_result"
    }
   ],
   "source": [
    "df3[df3['F'].isin(['two', 'four'])]"
   ]
  },
  {
   "cell_type": "code",
   "execution_count": 147,
   "metadata": {
    "collapsed": false,
    "scrolled": true
   },
   "outputs": [
    {
     "data": {
      "text/plain": [
       "2013-01-02    1\n",
       "2013-01-03    2\n",
       "2013-01-04    3\n",
       "2013-01-05    4\n",
       "2013-01-06    5\n",
       "2013-01-07    6\n",
       "Freq: D, dtype: int64"
      ]
     },
     "execution_count": 147,
     "metadata": {},
     "output_type": "execute_result"
    }
   ],
   "source": [
    "s1 = pd.Series([1,2,3,4,5,6],index=pd.date_range('20130102', periods =6))\n",
    "s1"
   ]
  },
  {
   "cell_type": "code",
   "execution_count": 148,
   "metadata": {
    "collapsed": true
   },
   "outputs": [],
   "source": [
    "df['F'] = s1"
   ]
  },
  {
   "cell_type": "code",
   "execution_count": 149,
   "metadata": {
    "collapsed": false
   },
   "outputs": [
    {
     "data": {
      "text/html": [
       "<div>\n",
       "<table border=\"1\" class=\"dataframe\">\n",
       "  <thead>\n",
       "    <tr style=\"text-align: right;\">\n",
       "      <th></th>\n",
       "      <th>A</th>\n",
       "      <th>B</th>\n",
       "      <th>C</th>\n",
       "      <th>D</th>\n",
       "      <th>E</th>\n",
       "      <th>F</th>\n",
       "    </tr>\n",
       "  </thead>\n",
       "  <tbody>\n",
       "    <tr>\n",
       "      <th>2013-01-01</th>\n",
       "      <td>0.066390</td>\n",
       "      <td>0.423356</td>\n",
       "      <td>-0.335250</td>\n",
       "      <td>0.126074</td>\n",
       "      <td>1.478497</td>\n",
       "      <td>NaN</td>\n",
       "    </tr>\n",
       "    <tr>\n",
       "      <th>2013-01-02</th>\n",
       "      <td>-0.992497</td>\n",
       "      <td>0.710643</td>\n",
       "      <td>0.399813</td>\n",
       "      <td>-1.245138</td>\n",
       "      <td>2.117459</td>\n",
       "      <td>1.0</td>\n",
       "    </tr>\n",
       "    <tr>\n",
       "      <th>2013-01-03</th>\n",
       "      <td>0.252339</td>\n",
       "      <td>0.597867</td>\n",
       "      <td>0.574339</td>\n",
       "      <td>-0.453959</td>\n",
       "      <td>0.743652</td>\n",
       "      <td>2.0</td>\n",
       "    </tr>\n",
       "    <tr>\n",
       "      <th>2013-01-04</th>\n",
       "      <td>-1.322116</td>\n",
       "      <td>-0.342312</td>\n",
       "      <td>-1.353458</td>\n",
       "      <td>-0.121146</td>\n",
       "      <td>-0.372690</td>\n",
       "      <td>3.0</td>\n",
       "    </tr>\n",
       "    <tr>\n",
       "      <th>2013-01-05</th>\n",
       "      <td>-1.072089</td>\n",
       "      <td>-0.589960</td>\n",
       "      <td>-1.326414</td>\n",
       "      <td>-0.249133</td>\n",
       "      <td>1.112193</td>\n",
       "      <td>4.0</td>\n",
       "    </tr>\n",
       "    <tr>\n",
       "      <th>2013-01-06</th>\n",
       "      <td>0.376197</td>\n",
       "      <td>-1.780693</td>\n",
       "      <td>1.794927</td>\n",
       "      <td>0.580733</td>\n",
       "      <td>0.528141</td>\n",
       "      <td>5.0</td>\n",
       "    </tr>\n",
       "  </tbody>\n",
       "</table>\n",
       "</div>"
      ],
      "text/plain": [
       "                   A         B         C         D         E    F\n",
       "2013-01-01  0.066390  0.423356 -0.335250  0.126074  1.478497  NaN\n",
       "2013-01-02 -0.992497  0.710643  0.399813 -1.245138  2.117459  1.0\n",
       "2013-01-03  0.252339  0.597867  0.574339 -0.453959  0.743652  2.0\n",
       "2013-01-04 -1.322116 -0.342312 -1.353458 -0.121146 -0.372690  3.0\n",
       "2013-01-05 -1.072089 -0.589960 -1.326414 -0.249133  1.112193  4.0\n",
       "2013-01-06  0.376197 -1.780693  1.794927  0.580733  0.528141  5.0"
      ]
     },
     "execution_count": 149,
     "metadata": {},
     "output_type": "execute_result"
    }
   ],
   "source": [
    "df"
   ]
  },
  {
   "cell_type": "code",
   "execution_count": 150,
   "metadata": {
    "collapsed": true
   },
   "outputs": [],
   "source": [
    "\"\"\"SETTING VALUES BY LABEL\"\"\"\n",
    "df.at[dates[0], 'A'] = 0"
   ]
  },
  {
   "cell_type": "code",
   "execution_count": 151,
   "metadata": {
    "collapsed": true
   },
   "outputs": [],
   "source": [
    "\"\"\"SETTING VALUES BY POSITION\"\"\"\n",
    "df.iat[0,1] = 0"
   ]
  },
  {
   "cell_type": "code",
   "execution_count": 152,
   "metadata": {
    "collapsed": true
   },
   "outputs": [],
   "source": [
    "\"\"\"SETTING BY ASSIGNING WITH A NUMPY ARRAY\"\"\"\n",
    "df.loc[:, 'D'] = np.array([5] * len(df))"
   ]
  },
  {
   "cell_type": "code",
   "execution_count": 153,
   "metadata": {
    "collapsed": false
   },
   "outputs": [
    {
     "data": {
      "text/html": [
       "<div>\n",
       "<table border=\"1\" class=\"dataframe\">\n",
       "  <thead>\n",
       "    <tr style=\"text-align: right;\">\n",
       "      <th></th>\n",
       "      <th>A</th>\n",
       "      <th>B</th>\n",
       "      <th>C</th>\n",
       "      <th>D</th>\n",
       "      <th>E</th>\n",
       "      <th>F</th>\n",
       "    </tr>\n",
       "  </thead>\n",
       "  <tbody>\n",
       "    <tr>\n",
       "      <th>2013-01-01</th>\n",
       "      <td>0.000000</td>\n",
       "      <td>0.000000</td>\n",
       "      <td>-0.335250</td>\n",
       "      <td>5</td>\n",
       "      <td>1.478497</td>\n",
       "      <td>NaN</td>\n",
       "    </tr>\n",
       "    <tr>\n",
       "      <th>2013-01-02</th>\n",
       "      <td>-0.992497</td>\n",
       "      <td>0.710643</td>\n",
       "      <td>0.399813</td>\n",
       "      <td>5</td>\n",
       "      <td>2.117459</td>\n",
       "      <td>1.0</td>\n",
       "    </tr>\n",
       "    <tr>\n",
       "      <th>2013-01-03</th>\n",
       "      <td>0.252339</td>\n",
       "      <td>0.597867</td>\n",
       "      <td>0.574339</td>\n",
       "      <td>5</td>\n",
       "      <td>0.743652</td>\n",
       "      <td>2.0</td>\n",
       "    </tr>\n",
       "    <tr>\n",
       "      <th>2013-01-04</th>\n",
       "      <td>-1.322116</td>\n",
       "      <td>-0.342312</td>\n",
       "      <td>-1.353458</td>\n",
       "      <td>5</td>\n",
       "      <td>-0.372690</td>\n",
       "      <td>3.0</td>\n",
       "    </tr>\n",
       "    <tr>\n",
       "      <th>2013-01-05</th>\n",
       "      <td>-1.072089</td>\n",
       "      <td>-0.589960</td>\n",
       "      <td>-1.326414</td>\n",
       "      <td>5</td>\n",
       "      <td>1.112193</td>\n",
       "      <td>4.0</td>\n",
       "    </tr>\n",
       "    <tr>\n",
       "      <th>2013-01-06</th>\n",
       "      <td>0.376197</td>\n",
       "      <td>-1.780693</td>\n",
       "      <td>1.794927</td>\n",
       "      <td>5</td>\n",
       "      <td>0.528141</td>\n",
       "      <td>5.0</td>\n",
       "    </tr>\n",
       "  </tbody>\n",
       "</table>\n",
       "</div>"
      ],
      "text/plain": [
       "                   A         B         C  D         E    F\n",
       "2013-01-01  0.000000  0.000000 -0.335250  5  1.478497  NaN\n",
       "2013-01-02 -0.992497  0.710643  0.399813  5  2.117459  1.0\n",
       "2013-01-03  0.252339  0.597867  0.574339  5  0.743652  2.0\n",
       "2013-01-04 -1.322116 -0.342312 -1.353458  5 -0.372690  3.0\n",
       "2013-01-05 -1.072089 -0.589960 -1.326414  5  1.112193  4.0\n",
       "2013-01-06  0.376197 -1.780693  1.794927  5  0.528141  5.0"
      ]
     },
     "execution_count": 153,
     "metadata": {},
     "output_type": "execute_result"
    }
   ],
   "source": [
    "df"
   ]
  },
  {
   "cell_type": "code",
   "execution_count": 154,
   "metadata": {
    "collapsed": false
   },
   "outputs": [
    {
     "data": {
      "text/html": [
       "<div>\n",
       "<table border=\"1\" class=\"dataframe\">\n",
       "  <thead>\n",
       "    <tr style=\"text-align: right;\">\n",
       "      <th></th>\n",
       "      <th>A</th>\n",
       "      <th>B</th>\n",
       "      <th>C</th>\n",
       "      <th>D</th>\n",
       "      <th>E</th>\n",
       "      <th>F</th>\n",
       "    </tr>\n",
       "  </thead>\n",
       "  <tbody>\n",
       "    <tr>\n",
       "      <th>2013-01-01</th>\n",
       "      <td>0.000000</td>\n",
       "      <td>0.000000</td>\n",
       "      <td>-0.335250</td>\n",
       "      <td>-5</td>\n",
       "      <td>-1.478497</td>\n",
       "      <td>NaN</td>\n",
       "    </tr>\n",
       "    <tr>\n",
       "      <th>2013-01-02</th>\n",
       "      <td>-0.992497</td>\n",
       "      <td>-0.710643</td>\n",
       "      <td>-0.399813</td>\n",
       "      <td>-5</td>\n",
       "      <td>-2.117459</td>\n",
       "      <td>-1.0</td>\n",
       "    </tr>\n",
       "    <tr>\n",
       "      <th>2013-01-03</th>\n",
       "      <td>-0.252339</td>\n",
       "      <td>-0.597867</td>\n",
       "      <td>-0.574339</td>\n",
       "      <td>-5</td>\n",
       "      <td>-0.743652</td>\n",
       "      <td>-2.0</td>\n",
       "    </tr>\n",
       "    <tr>\n",
       "      <th>2013-01-04</th>\n",
       "      <td>-1.322116</td>\n",
       "      <td>-0.342312</td>\n",
       "      <td>-1.353458</td>\n",
       "      <td>-5</td>\n",
       "      <td>-0.372690</td>\n",
       "      <td>-3.0</td>\n",
       "    </tr>\n",
       "    <tr>\n",
       "      <th>2013-01-05</th>\n",
       "      <td>-1.072089</td>\n",
       "      <td>-0.589960</td>\n",
       "      <td>-1.326414</td>\n",
       "      <td>-5</td>\n",
       "      <td>-1.112193</td>\n",
       "      <td>-4.0</td>\n",
       "    </tr>\n",
       "    <tr>\n",
       "      <th>2013-01-06</th>\n",
       "      <td>-0.376197</td>\n",
       "      <td>-1.780693</td>\n",
       "      <td>-1.794927</td>\n",
       "      <td>-5</td>\n",
       "      <td>-0.528141</td>\n",
       "      <td>-5.0</td>\n",
       "    </tr>\n",
       "  </tbody>\n",
       "</table>\n",
       "</div>"
      ],
      "text/plain": [
       "                   A         B         C  D         E    F\n",
       "2013-01-01  0.000000  0.000000 -0.335250 -5 -1.478497  NaN\n",
       "2013-01-02 -0.992497 -0.710643 -0.399813 -5 -2.117459 -1.0\n",
       "2013-01-03 -0.252339 -0.597867 -0.574339 -5 -0.743652 -2.0\n",
       "2013-01-04 -1.322116 -0.342312 -1.353458 -5 -0.372690 -3.0\n",
       "2013-01-05 -1.072089 -0.589960 -1.326414 -5 -1.112193 -4.0\n",
       "2013-01-06 -0.376197 -1.780693 -1.794927 -5 -0.528141 -5.0"
      ]
     },
     "execution_count": 154,
     "metadata": {},
     "output_type": "execute_result"
    }
   ],
   "source": [
    "df[df > 0] = -df\n",
    "df"
   ]
  },
  {
   "cell_type": "code",
   "execution_count": 155,
   "metadata": {
    "collapsed": true
   },
   "outputs": [],
   "source": [
    "df1 = df.reindex(index=dates[0:4], columns=list(df.columns))"
   ]
  },
  {
   "cell_type": "code",
   "execution_count": 156,
   "metadata": {
    "collapsed": false
   },
   "outputs": [],
   "source": [
    "df4 = df3[df3>0]"
   ]
  },
  {
   "cell_type": "code",
   "execution_count": 157,
   "metadata": {
    "collapsed": false
   },
   "outputs": [
    {
     "data": {
      "text/html": [
       "<div>\n",
       "<table border=\"1\" class=\"dataframe\">\n",
       "  <thead>\n",
       "    <tr style=\"text-align: right;\">\n",
       "      <th></th>\n",
       "      <th>A</th>\n",
       "      <th>B</th>\n",
       "      <th>C</th>\n",
       "      <th>D</th>\n",
       "      <th>E</th>\n",
       "      <th>F</th>\n",
       "    </tr>\n",
       "  </thead>\n",
       "  <tbody>\n",
       "  </tbody>\n",
       "</table>\n",
       "</div>"
      ],
      "text/plain": [
       "Empty DataFrame\n",
       "Columns: [A, B, C, D, E, F]\n",
       "Index: []"
      ]
     },
     "execution_count": 157,
     "metadata": {},
     "output_type": "execute_result"
    }
   ],
   "source": [
    "df4.dropna()"
   ]
  },
  {
   "cell_type": "code",
   "execution_count": 158,
   "metadata": {
    "collapsed": false
   },
   "outputs": [
    {
     "data": {
      "text/html": [
       "<div>\n",
       "<table border=\"1\" class=\"dataframe\">\n",
       "  <thead>\n",
       "    <tr style=\"text-align: right;\">\n",
       "      <th></th>\n",
       "      <th>A</th>\n",
       "      <th>B</th>\n",
       "      <th>C</th>\n",
       "      <th>D</th>\n",
       "      <th>E</th>\n",
       "      <th>F</th>\n",
       "    </tr>\n",
       "  </thead>\n",
       "  <tbody>\n",
       "    <tr>\n",
       "      <th>2013-01-01</th>\n",
       "      <td>0.066390</td>\n",
       "      <td>0.423356</td>\n",
       "      <td>NaN</td>\n",
       "      <td>0.126074</td>\n",
       "      <td>1.478497</td>\n",
       "      <td>one</td>\n",
       "    </tr>\n",
       "    <tr>\n",
       "      <th>2013-01-02</th>\n",
       "      <td>NaN</td>\n",
       "      <td>0.710643</td>\n",
       "      <td>0.399813</td>\n",
       "      <td>NaN</td>\n",
       "      <td>2.117459</td>\n",
       "      <td>one</td>\n",
       "    </tr>\n",
       "    <tr>\n",
       "      <th>2013-01-03</th>\n",
       "      <td>0.252339</td>\n",
       "      <td>0.597867</td>\n",
       "      <td>0.574339</td>\n",
       "      <td>NaN</td>\n",
       "      <td>0.743652</td>\n",
       "      <td>two</td>\n",
       "    </tr>\n",
       "    <tr>\n",
       "      <th>2013-01-04</th>\n",
       "      <td>NaN</td>\n",
       "      <td>NaN</td>\n",
       "      <td>NaN</td>\n",
       "      <td>NaN</td>\n",
       "      <td>NaN</td>\n",
       "      <td>three</td>\n",
       "    </tr>\n",
       "    <tr>\n",
       "      <th>2013-01-05</th>\n",
       "      <td>NaN</td>\n",
       "      <td>NaN</td>\n",
       "      <td>NaN</td>\n",
       "      <td>NaN</td>\n",
       "      <td>1.112193</td>\n",
       "      <td>four</td>\n",
       "    </tr>\n",
       "    <tr>\n",
       "      <th>2013-01-06</th>\n",
       "      <td>0.376197</td>\n",
       "      <td>NaN</td>\n",
       "      <td>1.794927</td>\n",
       "      <td>0.580733</td>\n",
       "      <td>0.528141</td>\n",
       "      <td>three</td>\n",
       "    </tr>\n",
       "  </tbody>\n",
       "</table>\n",
       "</div>"
      ],
      "text/plain": [
       "                   A         B         C         D         E      F\n",
       "2013-01-01  0.066390  0.423356       NaN  0.126074  1.478497    one\n",
       "2013-01-02       NaN  0.710643  0.399813       NaN  2.117459    one\n",
       "2013-01-03  0.252339  0.597867  0.574339       NaN  0.743652    two\n",
       "2013-01-04       NaN       NaN       NaN       NaN       NaN  three\n",
       "2013-01-05       NaN       NaN       NaN       NaN  1.112193   four\n",
       "2013-01-06  0.376197       NaN  1.794927  0.580733  0.528141  three"
      ]
     },
     "execution_count": 158,
     "metadata": {},
     "output_type": "execute_result"
    }
   ],
   "source": [
    "df4"
   ]
  },
  {
   "cell_type": "code",
   "execution_count": 159,
   "metadata": {
    "collapsed": false
   },
   "outputs": [
    {
     "data": {
      "text/html": [
       "<div>\n",
       "<table border=\"1\" class=\"dataframe\">\n",
       "  <thead>\n",
       "    <tr style=\"text-align: right;\">\n",
       "      <th></th>\n",
       "      <th>A</th>\n",
       "      <th>B</th>\n",
       "      <th>C</th>\n",
       "      <th>D</th>\n",
       "      <th>E</th>\n",
       "      <th>F</th>\n",
       "    </tr>\n",
       "  </thead>\n",
       "  <tbody>\n",
       "    <tr>\n",
       "      <th>2013-01-01</th>\n",
       "      <td>0.066390</td>\n",
       "      <td>0.423356</td>\n",
       "      <td>0.000000</td>\n",
       "      <td>0.126074</td>\n",
       "      <td>1.478497</td>\n",
       "      <td>one</td>\n",
       "    </tr>\n",
       "    <tr>\n",
       "      <th>2013-01-02</th>\n",
       "      <td>0.000000</td>\n",
       "      <td>0.710643</td>\n",
       "      <td>0.399813</td>\n",
       "      <td>0.000000</td>\n",
       "      <td>2.117459</td>\n",
       "      <td>one</td>\n",
       "    </tr>\n",
       "    <tr>\n",
       "      <th>2013-01-03</th>\n",
       "      <td>0.252339</td>\n",
       "      <td>0.597867</td>\n",
       "      <td>0.574339</td>\n",
       "      <td>0.000000</td>\n",
       "      <td>0.743652</td>\n",
       "      <td>two</td>\n",
       "    </tr>\n",
       "    <tr>\n",
       "      <th>2013-01-04</th>\n",
       "      <td>0.000000</td>\n",
       "      <td>0.000000</td>\n",
       "      <td>0.000000</td>\n",
       "      <td>0.000000</td>\n",
       "      <td>0.000000</td>\n",
       "      <td>three</td>\n",
       "    </tr>\n",
       "    <tr>\n",
       "      <th>2013-01-05</th>\n",
       "      <td>0.000000</td>\n",
       "      <td>0.000000</td>\n",
       "      <td>0.000000</td>\n",
       "      <td>0.000000</td>\n",
       "      <td>1.112193</td>\n",
       "      <td>four</td>\n",
       "    </tr>\n",
       "    <tr>\n",
       "      <th>2013-01-06</th>\n",
       "      <td>0.376197</td>\n",
       "      <td>0.000000</td>\n",
       "      <td>1.794927</td>\n",
       "      <td>0.580733</td>\n",
       "      <td>0.528141</td>\n",
       "      <td>three</td>\n",
       "    </tr>\n",
       "  </tbody>\n",
       "</table>\n",
       "</div>"
      ],
      "text/plain": [
       "                   A         B         C         D         E      F\n",
       "2013-01-01  0.066390  0.423356  0.000000  0.126074  1.478497    one\n",
       "2013-01-02  0.000000  0.710643  0.399813  0.000000  2.117459    one\n",
       "2013-01-03  0.252339  0.597867  0.574339  0.000000  0.743652    two\n",
       "2013-01-04  0.000000  0.000000  0.000000  0.000000  0.000000  three\n",
       "2013-01-05  0.000000  0.000000  0.000000  0.000000  1.112193   four\n",
       "2013-01-06  0.376197  0.000000  1.794927  0.580733  0.528141  three"
      ]
     },
     "execution_count": 159,
     "metadata": {},
     "output_type": "execute_result"
    }
   ],
   "source": [
    "df4.fillna(value = 0)"
   ]
  },
  {
   "cell_type": "code",
   "execution_count": 160,
   "metadata": {
    "collapsed": false
   },
   "outputs": [
    {
     "data": {
      "text/html": [
       "<div>\n",
       "<table border=\"1\" class=\"dataframe\">\n",
       "  <thead>\n",
       "    <tr style=\"text-align: right;\">\n",
       "      <th></th>\n",
       "      <th>A</th>\n",
       "      <th>B</th>\n",
       "      <th>C</th>\n",
       "      <th>D</th>\n",
       "      <th>E</th>\n",
       "      <th>F</th>\n",
       "    </tr>\n",
       "  </thead>\n",
       "  <tbody>\n",
       "    <tr>\n",
       "      <th>2013-01-01</th>\n",
       "      <td>False</td>\n",
       "      <td>False</td>\n",
       "      <td>True</td>\n",
       "      <td>False</td>\n",
       "      <td>False</td>\n",
       "      <td>False</td>\n",
       "    </tr>\n",
       "    <tr>\n",
       "      <th>2013-01-02</th>\n",
       "      <td>True</td>\n",
       "      <td>False</td>\n",
       "      <td>False</td>\n",
       "      <td>True</td>\n",
       "      <td>False</td>\n",
       "      <td>False</td>\n",
       "    </tr>\n",
       "    <tr>\n",
       "      <th>2013-01-03</th>\n",
       "      <td>False</td>\n",
       "      <td>False</td>\n",
       "      <td>False</td>\n",
       "      <td>True</td>\n",
       "      <td>False</td>\n",
       "      <td>False</td>\n",
       "    </tr>\n",
       "    <tr>\n",
       "      <th>2013-01-04</th>\n",
       "      <td>True</td>\n",
       "      <td>True</td>\n",
       "      <td>True</td>\n",
       "      <td>True</td>\n",
       "      <td>True</td>\n",
       "      <td>False</td>\n",
       "    </tr>\n",
       "    <tr>\n",
       "      <th>2013-01-05</th>\n",
       "      <td>True</td>\n",
       "      <td>True</td>\n",
       "      <td>True</td>\n",
       "      <td>True</td>\n",
       "      <td>False</td>\n",
       "      <td>False</td>\n",
       "    </tr>\n",
       "    <tr>\n",
       "      <th>2013-01-06</th>\n",
       "      <td>False</td>\n",
       "      <td>True</td>\n",
       "      <td>False</td>\n",
       "      <td>False</td>\n",
       "      <td>False</td>\n",
       "      <td>False</td>\n",
       "    </tr>\n",
       "  </tbody>\n",
       "</table>\n",
       "</div>"
      ],
      "text/plain": [
       "                A      B      C      D      E      F\n",
       "2013-01-01  False  False   True  False  False  False\n",
       "2013-01-02   True  False  False   True  False  False\n",
       "2013-01-03  False  False  False   True  False  False\n",
       "2013-01-04   True   True   True   True   True  False\n",
       "2013-01-05   True   True   True   True  False  False\n",
       "2013-01-06  False   True  False  False  False  False"
      ]
     },
     "execution_count": 160,
     "metadata": {},
     "output_type": "execute_result"
    }
   ],
   "source": [
    "pd.isnull(df4)"
   ]
  },
  {
   "cell_type": "code",
   "execution_count": 161,
   "metadata": {
    "collapsed": false
   },
   "outputs": [
    {
     "data": {
      "text/html": [
       "<div>\n",
       "<table border=\"1\" class=\"dataframe\">\n",
       "  <thead>\n",
       "    <tr style=\"text-align: right;\">\n",
       "      <th></th>\n",
       "      <th>A</th>\n",
       "      <th>B</th>\n",
       "      <th>C</th>\n",
       "      <th>D</th>\n",
       "      <th>E</th>\n",
       "      <th>F</th>\n",
       "    </tr>\n",
       "  </thead>\n",
       "  <tbody>\n",
       "    <tr>\n",
       "      <th>2013-01-01</th>\n",
       "      <td>0.000000</td>\n",
       "      <td>0.000000</td>\n",
       "      <td>-0.335250</td>\n",
       "      <td>-5</td>\n",
       "      <td>-1.478497</td>\n",
       "      <td>NaN</td>\n",
       "    </tr>\n",
       "    <tr>\n",
       "      <th>2013-01-02</th>\n",
       "      <td>-0.992497</td>\n",
       "      <td>-0.710643</td>\n",
       "      <td>-0.399813</td>\n",
       "      <td>-5</td>\n",
       "      <td>-2.117459</td>\n",
       "      <td>-1.0</td>\n",
       "    </tr>\n",
       "    <tr>\n",
       "      <th>2013-01-03</th>\n",
       "      <td>-0.252339</td>\n",
       "      <td>-0.597867</td>\n",
       "      <td>-0.574339</td>\n",
       "      <td>-5</td>\n",
       "      <td>-0.743652</td>\n",
       "      <td>-2.0</td>\n",
       "    </tr>\n",
       "    <tr>\n",
       "      <th>2013-01-04</th>\n",
       "      <td>-1.322116</td>\n",
       "      <td>-0.342312</td>\n",
       "      <td>-1.353458</td>\n",
       "      <td>-5</td>\n",
       "      <td>-0.372690</td>\n",
       "      <td>-3.0</td>\n",
       "    </tr>\n",
       "    <tr>\n",
       "      <th>2013-01-05</th>\n",
       "      <td>-1.072089</td>\n",
       "      <td>-0.589960</td>\n",
       "      <td>-1.326414</td>\n",
       "      <td>-5</td>\n",
       "      <td>-1.112193</td>\n",
       "      <td>-4.0</td>\n",
       "    </tr>\n",
       "    <tr>\n",
       "      <th>2013-01-06</th>\n",
       "      <td>-0.376197</td>\n",
       "      <td>-1.780693</td>\n",
       "      <td>-1.794927</td>\n",
       "      <td>-5</td>\n",
       "      <td>-0.528141</td>\n",
       "      <td>-5.0</td>\n",
       "    </tr>\n",
       "  </tbody>\n",
       "</table>\n",
       "</div>"
      ],
      "text/plain": [
       "                   A         B         C  D         E    F\n",
       "2013-01-01  0.000000  0.000000 -0.335250 -5 -1.478497  NaN\n",
       "2013-01-02 -0.992497 -0.710643 -0.399813 -5 -2.117459 -1.0\n",
       "2013-01-03 -0.252339 -0.597867 -0.574339 -5 -0.743652 -2.0\n",
       "2013-01-04 -1.322116 -0.342312 -1.353458 -5 -0.372690 -3.0\n",
       "2013-01-05 -1.072089 -0.589960 -1.326414 -5 -1.112193 -4.0\n",
       "2013-01-06 -0.376197 -1.780693 -1.794927 -5 -0.528141 -5.0"
      ]
     },
     "execution_count": 161,
     "metadata": {},
     "output_type": "execute_result"
    }
   ],
   "source": [
    "df"
   ]
  },
  {
   "cell_type": "code",
   "execution_count": 162,
   "metadata": {
    "collapsed": false
   },
   "outputs": [
    {
     "data": {
      "text/plain": [
       "A   -0.669206\n",
       "B   -0.670246\n",
       "C   -0.964034\n",
       "D   -5.000000\n",
       "E   -1.058772\n",
       "F   -3.000000\n",
       "dtype: float64"
      ]
     },
     "execution_count": 162,
     "metadata": {},
     "output_type": "execute_result"
    }
   ],
   "source": [
    "df.mean()"
   ]
  },
  {
   "cell_type": "code",
   "execution_count": 163,
   "metadata": {
    "collapsed": false
   },
   "outputs": [
    {
     "data": {
      "text/plain": [
       "2013-01-01   -1.362749\n",
       "2013-01-02   -1.703402\n",
       "2013-01-03   -1.528033\n",
       "2013-01-04   -1.898429\n",
       "2013-01-05   -2.183443\n",
       "2013-01-06   -2.413326\n",
       "Freq: D, dtype: float64"
      ]
     },
     "execution_count": 163,
     "metadata": {},
     "output_type": "execute_result"
    }
   ],
   "source": [
    "df.mean(1)"
   ]
  },
  {
   "cell_type": "code",
   "execution_count": 164,
   "metadata": {
    "collapsed": true
   },
   "outputs": [],
   "source": [
    "s = pd.Series([1,3,5,np.nan, 6, 8], index=dates)"
   ]
  },
  {
   "cell_type": "code",
   "execution_count": 165,
   "metadata": {
    "collapsed": false
   },
   "outputs": [
    {
     "data": {
      "text/plain": [
       "2013-01-01    1.0\n",
       "2013-01-02    3.0\n",
       "2013-01-03    5.0\n",
       "2013-01-04    NaN\n",
       "2013-01-05    6.0\n",
       "2013-01-06    8.0\n",
       "Freq: D, dtype: float64"
      ]
     },
     "execution_count": 165,
     "metadata": {},
     "output_type": "execute_result"
    }
   ],
   "source": [
    "s"
   ]
  },
  {
   "cell_type": "code",
   "execution_count": 166,
   "metadata": {
    "collapsed": false
   },
   "outputs": [
    {
     "data": {
      "text/plain": [
       "2013-01-01    NaN\n",
       "2013-01-02    NaN\n",
       "2013-01-03    1.0\n",
       "2013-01-04    3.0\n",
       "2013-01-05    5.0\n",
       "2013-01-06    NaN\n",
       "Freq: D, dtype: float64"
      ]
     },
     "execution_count": 166,
     "metadata": {},
     "output_type": "execute_result"
    }
   ],
   "source": [
    "s.shift(2)"
   ]
  },
  {
   "cell_type": "code",
   "execution_count": 167,
   "metadata": {
    "collapsed": false,
    "scrolled": true
   },
   "outputs": [
    {
     "data": {
      "text/html": [
       "<div>\n",
       "<table border=\"1\" class=\"dataframe\">\n",
       "  <thead>\n",
       "    <tr style=\"text-align: right;\">\n",
       "      <th></th>\n",
       "      <th>A</th>\n",
       "      <th>B</th>\n",
       "      <th>C</th>\n",
       "      <th>D</th>\n",
       "      <th>E</th>\n",
       "      <th>F</th>\n",
       "    </tr>\n",
       "  </thead>\n",
       "  <tbody>\n",
       "    <tr>\n",
       "      <th>2013-01-01</th>\n",
       "      <td>0.000000</td>\n",
       "      <td>0.000000</td>\n",
       "      <td>-0.335250</td>\n",
       "      <td>-5</td>\n",
       "      <td>-1.478497</td>\n",
       "      <td>NaN</td>\n",
       "    </tr>\n",
       "    <tr>\n",
       "      <th>2013-01-02</th>\n",
       "      <td>-0.992497</td>\n",
       "      <td>-0.710643</td>\n",
       "      <td>-0.399813</td>\n",
       "      <td>-5</td>\n",
       "      <td>-2.117459</td>\n",
       "      <td>-1.0</td>\n",
       "    </tr>\n",
       "    <tr>\n",
       "      <th>2013-01-03</th>\n",
       "      <td>-0.252339</td>\n",
       "      <td>-0.597867</td>\n",
       "      <td>-0.574339</td>\n",
       "      <td>-5</td>\n",
       "      <td>-0.743652</td>\n",
       "      <td>-2.0</td>\n",
       "    </tr>\n",
       "    <tr>\n",
       "      <th>2013-01-04</th>\n",
       "      <td>-1.322116</td>\n",
       "      <td>-0.342312</td>\n",
       "      <td>-1.353458</td>\n",
       "      <td>-5</td>\n",
       "      <td>-0.372690</td>\n",
       "      <td>-3.0</td>\n",
       "    </tr>\n",
       "    <tr>\n",
       "      <th>2013-01-05</th>\n",
       "      <td>-1.072089</td>\n",
       "      <td>-0.589960</td>\n",
       "      <td>-1.326414</td>\n",
       "      <td>-5</td>\n",
       "      <td>-1.112193</td>\n",
       "      <td>-4.0</td>\n",
       "    </tr>\n",
       "    <tr>\n",
       "      <th>2013-01-06</th>\n",
       "      <td>-0.376197</td>\n",
       "      <td>-1.780693</td>\n",
       "      <td>-1.794927</td>\n",
       "      <td>-5</td>\n",
       "      <td>-0.528141</td>\n",
       "      <td>-5.0</td>\n",
       "    </tr>\n",
       "  </tbody>\n",
       "</table>\n",
       "</div>"
      ],
      "text/plain": [
       "                   A         B         C  D         E    F\n",
       "2013-01-01  0.000000  0.000000 -0.335250 -5 -1.478497  NaN\n",
       "2013-01-02 -0.992497 -0.710643 -0.399813 -5 -2.117459 -1.0\n",
       "2013-01-03 -0.252339 -0.597867 -0.574339 -5 -0.743652 -2.0\n",
       "2013-01-04 -1.322116 -0.342312 -1.353458 -5 -0.372690 -3.0\n",
       "2013-01-05 -1.072089 -0.589960 -1.326414 -5 -1.112193 -4.0\n",
       "2013-01-06 -0.376197 -1.780693 -1.794927 -5 -0.528141 -5.0"
      ]
     },
     "execution_count": 167,
     "metadata": {},
     "output_type": "execute_result"
    }
   ],
   "source": [
    "df"
   ]
  },
  {
   "cell_type": "code",
   "execution_count": 168,
   "metadata": {
    "collapsed": false
   },
   "outputs": [
    {
     "data": {
      "text/plain": [
       "2013-01-01    1.0\n",
       "2013-01-02    3.0\n",
       "2013-01-03    5.0\n",
       "2013-01-04    NaN\n",
       "2013-01-05    6.0\n",
       "2013-01-06    8.0\n",
       "Freq: D, dtype: float64"
      ]
     },
     "execution_count": 168,
     "metadata": {},
     "output_type": "execute_result"
    }
   ],
   "source": [
    "s"
   ]
  },
  {
   "cell_type": "code",
   "execution_count": 169,
   "metadata": {
    "collapsed": false
   },
   "outputs": [
    {
     "data": {
      "text/html": [
       "<div>\n",
       "<table border=\"1\" class=\"dataframe\">\n",
       "  <thead>\n",
       "    <tr style=\"text-align: right;\">\n",
       "      <th></th>\n",
       "      <th>A</th>\n",
       "      <th>B</th>\n",
       "      <th>C</th>\n",
       "      <th>D</th>\n",
       "      <th>E</th>\n",
       "      <th>F</th>\n",
       "    </tr>\n",
       "  </thead>\n",
       "  <tbody>\n",
       "    <tr>\n",
       "      <th>2013-01-01</th>\n",
       "      <td>-1.000000</td>\n",
       "      <td>-1.000000</td>\n",
       "      <td>-1.335250</td>\n",
       "      <td>-6.0</td>\n",
       "      <td>-2.478497</td>\n",
       "      <td>NaN</td>\n",
       "    </tr>\n",
       "    <tr>\n",
       "      <th>2013-01-02</th>\n",
       "      <td>-3.992497</td>\n",
       "      <td>-3.710643</td>\n",
       "      <td>-3.399813</td>\n",
       "      <td>-8.0</td>\n",
       "      <td>-5.117459</td>\n",
       "      <td>-4.0</td>\n",
       "    </tr>\n",
       "    <tr>\n",
       "      <th>2013-01-03</th>\n",
       "      <td>-5.252339</td>\n",
       "      <td>-5.597867</td>\n",
       "      <td>-5.574339</td>\n",
       "      <td>-10.0</td>\n",
       "      <td>-5.743652</td>\n",
       "      <td>-7.0</td>\n",
       "    </tr>\n",
       "    <tr>\n",
       "      <th>2013-01-04</th>\n",
       "      <td>NaN</td>\n",
       "      <td>NaN</td>\n",
       "      <td>NaN</td>\n",
       "      <td>NaN</td>\n",
       "      <td>NaN</td>\n",
       "      <td>NaN</td>\n",
       "    </tr>\n",
       "    <tr>\n",
       "      <th>2013-01-05</th>\n",
       "      <td>-7.072089</td>\n",
       "      <td>-6.589960</td>\n",
       "      <td>-7.326414</td>\n",
       "      <td>-11.0</td>\n",
       "      <td>-7.112193</td>\n",
       "      <td>-10.0</td>\n",
       "    </tr>\n",
       "    <tr>\n",
       "      <th>2013-01-06</th>\n",
       "      <td>-8.376197</td>\n",
       "      <td>-9.780693</td>\n",
       "      <td>-9.794927</td>\n",
       "      <td>-13.0</td>\n",
       "      <td>-8.528141</td>\n",
       "      <td>-13.0</td>\n",
       "    </tr>\n",
       "  </tbody>\n",
       "</table>\n",
       "</div>"
      ],
      "text/plain": [
       "                   A         B         C     D         E     F\n",
       "2013-01-01 -1.000000 -1.000000 -1.335250  -6.0 -2.478497   NaN\n",
       "2013-01-02 -3.992497 -3.710643 -3.399813  -8.0 -5.117459  -4.0\n",
       "2013-01-03 -5.252339 -5.597867 -5.574339 -10.0 -5.743652  -7.0\n",
       "2013-01-04       NaN       NaN       NaN   NaN       NaN   NaN\n",
       "2013-01-05 -7.072089 -6.589960 -7.326414 -11.0 -7.112193 -10.0\n",
       "2013-01-06 -8.376197 -9.780693 -9.794927 -13.0 -8.528141 -13.0"
      ]
     },
     "execution_count": 169,
     "metadata": {},
     "output_type": "execute_result"
    }
   ],
   "source": [
    "df.sub(s, axis='index')"
   ]
  },
  {
   "cell_type": "code",
   "execution_count": 170,
   "metadata": {
    "collapsed": false,
    "scrolled": true
   },
   "outputs": [
    {
     "data": {
      "text/html": [
       "<div>\n",
       "<table border=\"1\" class=\"dataframe\">\n",
       "  <thead>\n",
       "    <tr style=\"text-align: right;\">\n",
       "      <th></th>\n",
       "      <th>A</th>\n",
       "      <th>B</th>\n",
       "      <th>C</th>\n",
       "      <th>D</th>\n",
       "      <th>E</th>\n",
       "      <th>F</th>\n",
       "    </tr>\n",
       "  </thead>\n",
       "  <tbody>\n",
       "    <tr>\n",
       "      <th>2013-01-01</th>\n",
       "      <td>0.000000</td>\n",
       "      <td>0.000000</td>\n",
       "      <td>-0.335250</td>\n",
       "      <td>-5</td>\n",
       "      <td>-1.478497</td>\n",
       "      <td>NaN</td>\n",
       "    </tr>\n",
       "    <tr>\n",
       "      <th>2013-01-02</th>\n",
       "      <td>-0.992497</td>\n",
       "      <td>-0.710643</td>\n",
       "      <td>-0.735063</td>\n",
       "      <td>-10</td>\n",
       "      <td>-3.595956</td>\n",
       "      <td>-1.0</td>\n",
       "    </tr>\n",
       "    <tr>\n",
       "      <th>2013-01-03</th>\n",
       "      <td>-1.244837</td>\n",
       "      <td>-1.308510</td>\n",
       "      <td>-1.309403</td>\n",
       "      <td>-15</td>\n",
       "      <td>-4.339608</td>\n",
       "      <td>-3.0</td>\n",
       "    </tr>\n",
       "    <tr>\n",
       "      <th>2013-01-04</th>\n",
       "      <td>-2.566952</td>\n",
       "      <td>-1.650822</td>\n",
       "      <td>-2.662861</td>\n",
       "      <td>-20</td>\n",
       "      <td>-4.712299</td>\n",
       "      <td>-6.0</td>\n",
       "    </tr>\n",
       "    <tr>\n",
       "      <th>2013-01-05</th>\n",
       "      <td>-3.639042</td>\n",
       "      <td>-2.240783</td>\n",
       "      <td>-3.989274</td>\n",
       "      <td>-25</td>\n",
       "      <td>-5.824491</td>\n",
       "      <td>-10.0</td>\n",
       "    </tr>\n",
       "    <tr>\n",
       "      <th>2013-01-06</th>\n",
       "      <td>-4.015238</td>\n",
       "      <td>-4.021476</td>\n",
       "      <td>-5.784201</td>\n",
       "      <td>-30</td>\n",
       "      <td>-6.352632</td>\n",
       "      <td>-15.0</td>\n",
       "    </tr>\n",
       "  </tbody>\n",
       "</table>\n",
       "</div>"
      ],
      "text/plain": [
       "                   A         B         C   D         E     F\n",
       "2013-01-01  0.000000  0.000000 -0.335250  -5 -1.478497   NaN\n",
       "2013-01-02 -0.992497 -0.710643 -0.735063 -10 -3.595956  -1.0\n",
       "2013-01-03 -1.244837 -1.308510 -1.309403 -15 -4.339608  -3.0\n",
       "2013-01-04 -2.566952 -1.650822 -2.662861 -20 -4.712299  -6.0\n",
       "2013-01-05 -3.639042 -2.240783 -3.989274 -25 -5.824491 -10.0\n",
       "2013-01-06 -4.015238 -4.021476 -5.784201 -30 -6.352632 -15.0"
      ]
     },
     "execution_count": 170,
     "metadata": {},
     "output_type": "execute_result"
    }
   ],
   "source": [
    "df.apply(np.cumsum)"
   ]
  },
  {
   "cell_type": "code",
   "execution_count": 171,
   "metadata": {
    "collapsed": false
   },
   "outputs": [
    {
     "data": {
      "text/plain": [
       "A    1.322116\n",
       "B    1.780693\n",
       "C    1.459677\n",
       "D    0.000000\n",
       "E    1.744769\n",
       "F    4.000000\n",
       "dtype: float64"
      ]
     },
     "execution_count": 171,
     "metadata": {},
     "output_type": "execute_result"
    }
   ],
   "source": [
    "df.apply(lambda x: x.max() - x.min())"
   ]
  },
  {
   "cell_type": "code",
   "execution_count": 172,
   "metadata": {
    "collapsed": false
   },
   "outputs": [
    {
     "data": {
      "text/plain": [
       "0    6\n",
       "1    1\n",
       "2    5\n",
       "3    4\n",
       "4    3\n",
       "5    4\n",
       "6    1\n",
       "7    0\n",
       "8    0\n",
       "9    2\n",
       "dtype: int64"
      ]
     },
     "execution_count": 172,
     "metadata": {},
     "output_type": "execute_result"
    }
   ],
   "source": [
    "s1 = pd.Series(np.random.randint(0,7,size=10))\n",
    "s1"
   ]
  },
  {
   "cell_type": "code",
   "execution_count": 173,
   "metadata": {
    "collapsed": false
   },
   "outputs": [
    {
     "data": {
      "text/plain": [
       "4    2\n",
       "1    2\n",
       "0    2\n",
       "6    1\n",
       "5    1\n",
       "3    1\n",
       "2    1\n",
       "dtype: int64"
      ]
     },
     "execution_count": 173,
     "metadata": {},
     "output_type": "execute_result"
    }
   ],
   "source": [
    "s1.value_counts()"
   ]
  },
  {
   "cell_type": "code",
   "execution_count": 174,
   "metadata": {
    "collapsed": false
   },
   "outputs": [
    {
     "data": {
      "text/plain": [
       "0       a\n",
       "1       b\n",
       "2       c\n",
       "3    aaba\n",
       "4    baca\n",
       "5     NaN\n",
       "6    caba\n",
       "7     dog\n",
       "8     cat\n",
       "dtype: object"
      ]
     },
     "execution_count": 174,
     "metadata": {},
     "output_type": "execute_result"
    }
   ],
   "source": [
    "s = pd.Series(['A', 'B', 'C', 'Aaba', 'Baca', np.nan, 'CABA', 'dog', 'cat'])\n",
    "s.str.lower()"
   ]
  },
  {
   "cell_type": "code",
   "execution_count": 175,
   "metadata": {
    "collapsed": true
   },
   "outputs": [],
   "source": [
    "\"\"\"Merge Table - Join\"\"\"\n",
    "left = pd.DataFrame({'key': ['foo', 'foo'], 'lval': [1, 2]})\n",
    "right = pd.DataFrame({'key': ['foo', 'foo'], 'rval': [4, 5]})"
   ]
  },
  {
   "cell_type": "code",
   "execution_count": 176,
   "metadata": {
    "collapsed": false
   },
   "outputs": [
    {
     "data": {
      "text/html": [
       "<div>\n",
       "<table border=\"1\" class=\"dataframe\">\n",
       "  <thead>\n",
       "    <tr style=\"text-align: right;\">\n",
       "      <th></th>\n",
       "      <th>key</th>\n",
       "      <th>lval</th>\n",
       "    </tr>\n",
       "  </thead>\n",
       "  <tbody>\n",
       "    <tr>\n",
       "      <th>0</th>\n",
       "      <td>foo</td>\n",
       "      <td>1</td>\n",
       "    </tr>\n",
       "    <tr>\n",
       "      <th>1</th>\n",
       "      <td>foo</td>\n",
       "      <td>2</td>\n",
       "    </tr>\n",
       "  </tbody>\n",
       "</table>\n",
       "</div>"
      ],
      "text/plain": [
       "   key  lval\n",
       "0  foo     1\n",
       "1  foo     2"
      ]
     },
     "execution_count": 176,
     "metadata": {},
     "output_type": "execute_result"
    }
   ],
   "source": [
    "left"
   ]
  },
  {
   "cell_type": "code",
   "execution_count": 177,
   "metadata": {
    "collapsed": false
   },
   "outputs": [
    {
     "data": {
      "text/html": [
       "<div>\n",
       "<table border=\"1\" class=\"dataframe\">\n",
       "  <thead>\n",
       "    <tr style=\"text-align: right;\">\n",
       "      <th></th>\n",
       "      <th>key</th>\n",
       "      <th>rval</th>\n",
       "    </tr>\n",
       "  </thead>\n",
       "  <tbody>\n",
       "    <tr>\n",
       "      <th>0</th>\n",
       "      <td>foo</td>\n",
       "      <td>4</td>\n",
       "    </tr>\n",
       "    <tr>\n",
       "      <th>1</th>\n",
       "      <td>foo</td>\n",
       "      <td>5</td>\n",
       "    </tr>\n",
       "  </tbody>\n",
       "</table>\n",
       "</div>"
      ],
      "text/plain": [
       "   key  rval\n",
       "0  foo     4\n",
       "1  foo     5"
      ]
     },
     "execution_count": 177,
     "metadata": {},
     "output_type": "execute_result"
    }
   ],
   "source": [
    "right"
   ]
  },
  {
   "cell_type": "code",
   "execution_count": 178,
   "metadata": {
    "collapsed": false
   },
   "outputs": [
    {
     "data": {
      "text/html": [
       "<div>\n",
       "<table border=\"1\" class=\"dataframe\">\n",
       "  <thead>\n",
       "    <tr style=\"text-align: right;\">\n",
       "      <th></th>\n",
       "      <th>key</th>\n",
       "      <th>lval</th>\n",
       "      <th>rval</th>\n",
       "    </tr>\n",
       "  </thead>\n",
       "  <tbody>\n",
       "    <tr>\n",
       "      <th>0</th>\n",
       "      <td>foo</td>\n",
       "      <td>1</td>\n",
       "      <td>4</td>\n",
       "    </tr>\n",
       "    <tr>\n",
       "      <th>1</th>\n",
       "      <td>foo</td>\n",
       "      <td>1</td>\n",
       "      <td>5</td>\n",
       "    </tr>\n",
       "    <tr>\n",
       "      <th>2</th>\n",
       "      <td>foo</td>\n",
       "      <td>2</td>\n",
       "      <td>4</td>\n",
       "    </tr>\n",
       "    <tr>\n",
       "      <th>3</th>\n",
       "      <td>foo</td>\n",
       "      <td>2</td>\n",
       "      <td>5</td>\n",
       "    </tr>\n",
       "  </tbody>\n",
       "</table>\n",
       "</div>"
      ],
      "text/plain": [
       "   key  lval  rval\n",
       "0  foo     1     4\n",
       "1  foo     1     5\n",
       "2  foo     2     4\n",
       "3  foo     2     5"
      ]
     },
     "execution_count": 178,
     "metadata": {},
     "output_type": "execute_result"
    }
   ],
   "source": [
    "pd.merge(left, right, on='key')"
   ]
  },
  {
   "cell_type": "code",
   "execution_count": 179,
   "metadata": {
    "collapsed": false
   },
   "outputs": [
    {
     "data": {
      "text/html": [
       "<div>\n",
       "<table border=\"1\" class=\"dataframe\">\n",
       "  <thead>\n",
       "    <tr style=\"text-align: right;\">\n",
       "      <th></th>\n",
       "      <th>A</th>\n",
       "      <th>B</th>\n",
       "      <th>C</th>\n",
       "      <th>D</th>\n",
       "    </tr>\n",
       "  </thead>\n",
       "  <tbody>\n",
       "    <tr>\n",
       "      <th>0</th>\n",
       "      <td>-0.504234</td>\n",
       "      <td>-0.206201</td>\n",
       "      <td>0.213150</td>\n",
       "      <td>1.077131</td>\n",
       "    </tr>\n",
       "    <tr>\n",
       "      <th>1</th>\n",
       "      <td>-0.676464</td>\n",
       "      <td>-0.086049</td>\n",
       "      <td>-0.879997</td>\n",
       "      <td>0.469492</td>\n",
       "    </tr>\n",
       "    <tr>\n",
       "      <th>2</th>\n",
       "      <td>-0.632444</td>\n",
       "      <td>-2.025961</td>\n",
       "      <td>-0.565966</td>\n",
       "      <td>-0.444422</td>\n",
       "    </tr>\n",
       "    <tr>\n",
       "      <th>3</th>\n",
       "      <td>2.785191</td>\n",
       "      <td>1.679229</td>\n",
       "      <td>-1.288893</td>\n",
       "      <td>-0.090314</td>\n",
       "    </tr>\n",
       "    <tr>\n",
       "      <th>4</th>\n",
       "      <td>-0.413502</td>\n",
       "      <td>-0.416302</td>\n",
       "      <td>1.280912</td>\n",
       "      <td>1.569439</td>\n",
       "    </tr>\n",
       "    <tr>\n",
       "      <th>5</th>\n",
       "      <td>-0.934591</td>\n",
       "      <td>-0.398843</td>\n",
       "      <td>0.267762</td>\n",
       "      <td>-1.490528</td>\n",
       "    </tr>\n",
       "    <tr>\n",
       "      <th>6</th>\n",
       "      <td>1.455030</td>\n",
       "      <td>-1.004302</td>\n",
       "      <td>-0.209456</td>\n",
       "      <td>-1.250501</td>\n",
       "    </tr>\n",
       "    <tr>\n",
       "      <th>7</th>\n",
       "      <td>0.932868</td>\n",
       "      <td>-0.859590</td>\n",
       "      <td>0.356315</td>\n",
       "      <td>0.077169</td>\n",
       "    </tr>\n",
       "    <tr>\n",
       "      <th>8</th>\n",
       "      <td>2.785191</td>\n",
       "      <td>1.679229</td>\n",
       "      <td>-1.288893</td>\n",
       "      <td>-0.090314</td>\n",
       "    </tr>\n",
       "  </tbody>\n",
       "</table>\n",
       "</div>"
      ],
      "text/plain": [
       "          A         B         C         D\n",
       "0 -0.504234 -0.206201  0.213150  1.077131\n",
       "1 -0.676464 -0.086049 -0.879997  0.469492\n",
       "2 -0.632444 -2.025961 -0.565966 -0.444422\n",
       "3  2.785191  1.679229 -1.288893 -0.090314\n",
       "4 -0.413502 -0.416302  1.280912  1.569439\n",
       "5 -0.934591 -0.398843  0.267762 -1.490528\n",
       "6  1.455030 -1.004302 -0.209456 -1.250501\n",
       "7  0.932868 -0.859590  0.356315  0.077169\n",
       "8  2.785191  1.679229 -1.288893 -0.090314"
      ]
     },
     "execution_count": 179,
     "metadata": {},
     "output_type": "execute_result"
    }
   ],
   "source": [
    "\"\"\"Append\"\"\"\n",
    "df = pd.DataFrame(np.random.randn(8, 4), columns=['A', 'B', 'C', 'D'])\n",
    "s = df.iloc[3]\n",
    "df.append(s, ignore_index=True)"
   ]
  },
  {
   "cell_type": "code",
   "execution_count": 180,
   "metadata": {
    "collapsed": true
   },
   "outputs": [],
   "source": [
    "df = pd.DataFrame({'A' : ['foo', 'bar', 'foo', 'bar',\n",
    "                         'foo', 'bar', 'foo', 'foo'],\n",
    "                   'B' : ['one', 'one', 'two', 'three',\n",
    "                         'two', 'two', 'one', 'three'],\n",
    "                   'C' : np.random.randn(8),\n",
    "                   'D' : np.random.randn(8)})"
   ]
  },
  {
   "cell_type": "code",
   "execution_count": 181,
   "metadata": {
    "collapsed": false
   },
   "outputs": [
    {
     "data": {
      "text/html": [
       "<div>\n",
       "<table border=\"1\" class=\"dataframe\">\n",
       "  <thead>\n",
       "    <tr style=\"text-align: right;\">\n",
       "      <th></th>\n",
       "      <th>A</th>\n",
       "      <th>B</th>\n",
       "      <th>C</th>\n",
       "      <th>D</th>\n",
       "    </tr>\n",
       "  </thead>\n",
       "  <tbody>\n",
       "    <tr>\n",
       "      <th>0</th>\n",
       "      <td>foo</td>\n",
       "      <td>one</td>\n",
       "      <td>0.526727</td>\n",
       "      <td>1.376576</td>\n",
       "    </tr>\n",
       "    <tr>\n",
       "      <th>1</th>\n",
       "      <td>bar</td>\n",
       "      <td>one</td>\n",
       "      <td>-0.202451</td>\n",
       "      <td>0.583710</td>\n",
       "    </tr>\n",
       "    <tr>\n",
       "      <th>2</th>\n",
       "      <td>foo</td>\n",
       "      <td>two</td>\n",
       "      <td>-1.219156</td>\n",
       "      <td>-0.531834</td>\n",
       "    </tr>\n",
       "    <tr>\n",
       "      <th>3</th>\n",
       "      <td>bar</td>\n",
       "      <td>three</td>\n",
       "      <td>-1.071327</td>\n",
       "      <td>0.426402</td>\n",
       "    </tr>\n",
       "    <tr>\n",
       "      <th>4</th>\n",
       "      <td>foo</td>\n",
       "      <td>two</td>\n",
       "      <td>-1.765408</td>\n",
       "      <td>-1.686701</td>\n",
       "    </tr>\n",
       "    <tr>\n",
       "      <th>5</th>\n",
       "      <td>bar</td>\n",
       "      <td>two</td>\n",
       "      <td>0.282572</td>\n",
       "      <td>0.087615</td>\n",
       "    </tr>\n",
       "    <tr>\n",
       "      <th>6</th>\n",
       "      <td>foo</td>\n",
       "      <td>one</td>\n",
       "      <td>0.289306</td>\n",
       "      <td>-1.479386</td>\n",
       "    </tr>\n",
       "    <tr>\n",
       "      <th>7</th>\n",
       "      <td>foo</td>\n",
       "      <td>three</td>\n",
       "      <td>-1.647653</td>\n",
       "      <td>0.158942</td>\n",
       "    </tr>\n",
       "  </tbody>\n",
       "</table>\n",
       "</div>"
      ],
      "text/plain": [
       "     A      B         C         D\n",
       "0  foo    one  0.526727  1.376576\n",
       "1  bar    one -0.202451  0.583710\n",
       "2  foo    two -1.219156 -0.531834\n",
       "3  bar  three -1.071327  0.426402\n",
       "4  foo    two -1.765408 -1.686701\n",
       "5  bar    two  0.282572  0.087615\n",
       "6  foo    one  0.289306 -1.479386\n",
       "7  foo  three -1.647653  0.158942"
      ]
     },
     "execution_count": 181,
     "metadata": {},
     "output_type": "execute_result"
    }
   ],
   "source": [
    "df"
   ]
  },
  {
   "cell_type": "code",
   "execution_count": 182,
   "metadata": {
    "collapsed": false
   },
   "outputs": [
    {
     "data": {
      "text/html": [
       "<div>\n",
       "<table border=\"1\" class=\"dataframe\">\n",
       "  <thead>\n",
       "    <tr style=\"text-align: right;\">\n",
       "      <th></th>\n",
       "      <th>C</th>\n",
       "      <th>D</th>\n",
       "    </tr>\n",
       "    <tr>\n",
       "      <th>A</th>\n",
       "      <th></th>\n",
       "      <th></th>\n",
       "    </tr>\n",
       "  </thead>\n",
       "  <tbody>\n",
       "    <tr>\n",
       "      <th>bar</th>\n",
       "      <td>-0.991206</td>\n",
       "      <td>1.097727</td>\n",
       "    </tr>\n",
       "    <tr>\n",
       "      <th>foo</th>\n",
       "      <td>-3.816184</td>\n",
       "      <td>-2.162403</td>\n",
       "    </tr>\n",
       "  </tbody>\n",
       "</table>\n",
       "</div>"
      ],
      "text/plain": [
       "            C         D\n",
       "A                      \n",
       "bar -0.991206  1.097727\n",
       "foo -3.816184 -2.162403"
      ]
     },
     "execution_count": 182,
     "metadata": {},
     "output_type": "execute_result"
    }
   ],
   "source": [
    "df.groupby('A').sum()"
   ]
  },
  {
   "cell_type": "code",
   "execution_count": 183,
   "metadata": {
    "collapsed": false
   },
   "outputs": [
    {
     "data": {
      "text/html": [
       "<div>\n",
       "<table border=\"1\" class=\"dataframe\">\n",
       "  <thead>\n",
       "    <tr style=\"text-align: right;\">\n",
       "      <th></th>\n",
       "      <th></th>\n",
       "      <th>C</th>\n",
       "      <th>D</th>\n",
       "    </tr>\n",
       "    <tr>\n",
       "      <th>A</th>\n",
       "      <th>B</th>\n",
       "      <th></th>\n",
       "      <th></th>\n",
       "    </tr>\n",
       "  </thead>\n",
       "  <tbody>\n",
       "    <tr>\n",
       "      <th rowspan=\"3\" valign=\"top\">bar</th>\n",
       "      <th>one</th>\n",
       "      <td>-0.202451</td>\n",
       "      <td>0.583710</td>\n",
       "    </tr>\n",
       "    <tr>\n",
       "      <th>three</th>\n",
       "      <td>-1.071327</td>\n",
       "      <td>0.426402</td>\n",
       "    </tr>\n",
       "    <tr>\n",
       "      <th>two</th>\n",
       "      <td>0.282572</td>\n",
       "      <td>0.087615</td>\n",
       "    </tr>\n",
       "    <tr>\n",
       "      <th rowspan=\"3\" valign=\"top\">foo</th>\n",
       "      <th>one</th>\n",
       "      <td>0.816033</td>\n",
       "      <td>-0.102810</td>\n",
       "    </tr>\n",
       "    <tr>\n",
       "      <th>three</th>\n",
       "      <td>-1.647653</td>\n",
       "      <td>0.158942</td>\n",
       "    </tr>\n",
       "    <tr>\n",
       "      <th>two</th>\n",
       "      <td>-2.984564</td>\n",
       "      <td>-2.218535</td>\n",
       "    </tr>\n",
       "  </tbody>\n",
       "</table>\n",
       "</div>"
      ],
      "text/plain": [
       "                  C         D\n",
       "A   B                        \n",
       "bar one   -0.202451  0.583710\n",
       "    three -1.071327  0.426402\n",
       "    two    0.282572  0.087615\n",
       "foo one    0.816033 -0.102810\n",
       "    three -1.647653  0.158942\n",
       "    two   -2.984564 -2.218535"
      ]
     },
     "execution_count": 183,
     "metadata": {},
     "output_type": "execute_result"
    }
   ],
   "source": [
    "df.groupby(['A', 'B']).sum()"
   ]
  },
  {
   "cell_type": "code",
   "execution_count": 184,
   "metadata": {
    "collapsed": false
   },
   "outputs": [
    {
     "data": {
      "text/html": [
       "<div>\n",
       "<table border=\"1\" class=\"dataframe\">\n",
       "  <thead>\n",
       "    <tr style=\"text-align: right;\">\n",
       "      <th></th>\n",
       "      <th>A</th>\n",
       "      <th>B</th>\n",
       "      <th>C</th>\n",
       "      <th>D</th>\n",
       "      <th>E</th>\n",
       "    </tr>\n",
       "  </thead>\n",
       "  <tbody>\n",
       "    <tr>\n",
       "      <th>0</th>\n",
       "      <td>one</td>\n",
       "      <td>A</td>\n",
       "      <td>foo</td>\n",
       "      <td>-0.290202</td>\n",
       "      <td>-0.760961</td>\n",
       "    </tr>\n",
       "    <tr>\n",
       "      <th>1</th>\n",
       "      <td>one</td>\n",
       "      <td>B</td>\n",
       "      <td>foo</td>\n",
       "      <td>-0.696429</td>\n",
       "      <td>0.099740</td>\n",
       "    </tr>\n",
       "    <tr>\n",
       "      <th>2</th>\n",
       "      <td>two</td>\n",
       "      <td>C</td>\n",
       "      <td>foo</td>\n",
       "      <td>-1.067371</td>\n",
       "      <td>1.497178</td>\n",
       "    </tr>\n",
       "    <tr>\n",
       "      <th>3</th>\n",
       "      <td>three</td>\n",
       "      <td>A</td>\n",
       "      <td>bar</td>\n",
       "      <td>-0.042401</td>\n",
       "      <td>1.007296</td>\n",
       "    </tr>\n",
       "    <tr>\n",
       "      <th>4</th>\n",
       "      <td>one</td>\n",
       "      <td>B</td>\n",
       "      <td>bar</td>\n",
       "      <td>0.218227</td>\n",
       "      <td>-0.164047</td>\n",
       "    </tr>\n",
       "    <tr>\n",
       "      <th>5</th>\n",
       "      <td>one</td>\n",
       "      <td>C</td>\n",
       "      <td>bar</td>\n",
       "      <td>-1.067515</td>\n",
       "      <td>1.673331</td>\n",
       "    </tr>\n",
       "    <tr>\n",
       "      <th>6</th>\n",
       "      <td>two</td>\n",
       "      <td>A</td>\n",
       "      <td>foo</td>\n",
       "      <td>0.631665</td>\n",
       "      <td>0.376901</td>\n",
       "    </tr>\n",
       "    <tr>\n",
       "      <th>7</th>\n",
       "      <td>three</td>\n",
       "      <td>B</td>\n",
       "      <td>foo</td>\n",
       "      <td>-0.327304</td>\n",
       "      <td>1.068056</td>\n",
       "    </tr>\n",
       "    <tr>\n",
       "      <th>8</th>\n",
       "      <td>one</td>\n",
       "      <td>C</td>\n",
       "      <td>foo</td>\n",
       "      <td>0.220489</td>\n",
       "      <td>-0.671909</td>\n",
       "    </tr>\n",
       "    <tr>\n",
       "      <th>9</th>\n",
       "      <td>one</td>\n",
       "      <td>A</td>\n",
       "      <td>bar</td>\n",
       "      <td>1.163030</td>\n",
       "      <td>-1.021932</td>\n",
       "    </tr>\n",
       "    <tr>\n",
       "      <th>10</th>\n",
       "      <td>two</td>\n",
       "      <td>B</td>\n",
       "      <td>bar</td>\n",
       "      <td>0.793804</td>\n",
       "      <td>0.138348</td>\n",
       "    </tr>\n",
       "    <tr>\n",
       "      <th>11</th>\n",
       "      <td>three</td>\n",
       "      <td>C</td>\n",
       "      <td>bar</td>\n",
       "      <td>-0.962206</td>\n",
       "      <td>-0.173120</td>\n",
       "    </tr>\n",
       "  </tbody>\n",
       "</table>\n",
       "</div>"
      ],
      "text/plain": [
       "        A  B    C         D         E\n",
       "0     one  A  foo -0.290202 -0.760961\n",
       "1     one  B  foo -0.696429  0.099740\n",
       "2     two  C  foo -1.067371  1.497178\n",
       "3   three  A  bar -0.042401  1.007296\n",
       "4     one  B  bar  0.218227 -0.164047\n",
       "5     one  C  bar -1.067515  1.673331\n",
       "6     two  A  foo  0.631665  0.376901\n",
       "7   three  B  foo -0.327304  1.068056\n",
       "8     one  C  foo  0.220489 -0.671909\n",
       "9     one  A  bar  1.163030 -1.021932\n",
       "10    two  B  bar  0.793804  0.138348\n",
       "11  three  C  bar -0.962206 -0.173120"
      ]
     },
     "execution_count": 184,
     "metadata": {},
     "output_type": "execute_result"
    }
   ],
   "source": [
    "\"\"\"Pivot Tables\"\"\"\n",
    "df = pd.DataFrame({'A' : ['one', 'one', 'two', 'three'] * 3,\n",
    "                   'B' : ['A', 'B', 'C'] * 4,\n",
    "                   'C' : ['foo', 'foo', 'foo', 'bar', 'bar', 'bar'] * 2,\n",
    "                   'D' : np.random.randn(12),\n",
    "                   'E' : np.random.randn(12)})\n",
    "df"
   ]
  },
  {
   "cell_type": "code",
   "execution_count": 185,
   "metadata": {
    "collapsed": false
   },
   "outputs": [
    {
     "data": {
      "text/html": [
       "<div>\n",
       "<table border=\"1\" class=\"dataframe\">\n",
       "  <thead>\n",
       "    <tr style=\"text-align: right;\">\n",
       "      <th></th>\n",
       "      <th>C</th>\n",
       "      <th>bar</th>\n",
       "      <th>foo</th>\n",
       "    </tr>\n",
       "    <tr>\n",
       "      <th>A</th>\n",
       "      <th>B</th>\n",
       "      <th></th>\n",
       "      <th></th>\n",
       "    </tr>\n",
       "  </thead>\n",
       "  <tbody>\n",
       "    <tr>\n",
       "      <th rowspan=\"3\" valign=\"top\">one</th>\n",
       "      <th>A</th>\n",
       "      <td>1.163030</td>\n",
       "      <td>-0.290202</td>\n",
       "    </tr>\n",
       "    <tr>\n",
       "      <th>B</th>\n",
       "      <td>0.218227</td>\n",
       "      <td>-0.696429</td>\n",
       "    </tr>\n",
       "    <tr>\n",
       "      <th>C</th>\n",
       "      <td>-1.067515</td>\n",
       "      <td>0.220489</td>\n",
       "    </tr>\n",
       "    <tr>\n",
       "      <th rowspan=\"3\" valign=\"top\">three</th>\n",
       "      <th>A</th>\n",
       "      <td>-0.042401</td>\n",
       "      <td>NaN</td>\n",
       "    </tr>\n",
       "    <tr>\n",
       "      <th>B</th>\n",
       "      <td>NaN</td>\n",
       "      <td>-0.327304</td>\n",
       "    </tr>\n",
       "    <tr>\n",
       "      <th>C</th>\n",
       "      <td>-0.962206</td>\n",
       "      <td>NaN</td>\n",
       "    </tr>\n",
       "    <tr>\n",
       "      <th rowspan=\"3\" valign=\"top\">two</th>\n",
       "      <th>A</th>\n",
       "      <td>NaN</td>\n",
       "      <td>0.631665</td>\n",
       "    </tr>\n",
       "    <tr>\n",
       "      <th>B</th>\n",
       "      <td>0.793804</td>\n",
       "      <td>NaN</td>\n",
       "    </tr>\n",
       "    <tr>\n",
       "      <th>C</th>\n",
       "      <td>NaN</td>\n",
       "      <td>-1.067371</td>\n",
       "    </tr>\n",
       "  </tbody>\n",
       "</table>\n",
       "</div>"
      ],
      "text/plain": [
       "C             bar       foo\n",
       "A     B                    \n",
       "one   A  1.163030 -0.290202\n",
       "      B  0.218227 -0.696429\n",
       "      C -1.067515  0.220489\n",
       "three A -0.042401       NaN\n",
       "      B       NaN -0.327304\n",
       "      C -0.962206       NaN\n",
       "two   A       NaN  0.631665\n",
       "      B  0.793804       NaN\n",
       "      C       NaN -1.067371"
      ]
     },
     "execution_count": 185,
     "metadata": {},
     "output_type": "execute_result"
    }
   ],
   "source": [
    "pd.pivot_table(df, values='D', index=['A', 'B'], columns=['C'])"
   ]
  },
  {
   "cell_type": "code",
   "execution_count": null,
   "metadata": {
    "collapsed": true
   },
   "outputs": [],
   "source": [
    "numpy.corrcoef(titanic_data['Survived'], titanic_data['Fare'])\n",
    "titanic_data.plot(kind = 'scatter', x='Age', y = 'Fare').set_yscale('log')\n",
    "titanic_data.groupby('Pclass').mean()['Fare']\n",
    "titanic_data.boxplot(column=['Fare'],by = ['Survived'])"
   ]
  },
  {
   "cell_type": "code",
   "execution_count": null,
   "metadata": {
    "collapsed": true
   },
   "outputs": [],
   "source": [
    "\"\"\"Create a Histogram\"\"\"\n",
    "ax = df_age['Age'].hist(bins=8)\n",
    "ax.set_ylabel('Number of Passengers')\n",
    "ax.set_xlabel('Age')\n",
    "ax.set_title('Age Distribution for Survived Passengers')"
   ]
  },
  {
   "cell_type": "code",
   "execution_count": null,
   "metadata": {
    "collapsed": true
   },
   "outputs": [],
   "source": [
    "titanic_data.groupby(['Survived','Pclass'])[['PassengerId']].count()"
   ]
  },
  {
   "cell_type": "code",
   "execution_count": null,
   "metadata": {
    "collapsed": true
   },
   "outputs": [],
   "source": [
    "\"\"\"WRITE and READ a CSV\"\"\"\n",
    "df.to_csv('foo.csv')\n",
    "pd.read_csv('foo.csv')"
   ]
  }
 ],
 "metadata": {
  "kernelspec": {
   "display_name": "Python 2",
   "language": "python",
   "name": "python2"
  },
  "language_info": {
   "codemirror_mode": {
    "name": "ipython",
    "version": 2
   },
   "file_extension": ".py",
   "mimetype": "text/x-python",
   "name": "python",
   "nbconvert_exporter": "python",
   "pygments_lexer": "ipython2",
   "version": "2.7.13"
  }
 },
 "nbformat": 4,
 "nbformat_minor": 2
}
